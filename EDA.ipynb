{
 "cells": [
  {
   "cell_type": "code",
   "execution_count": 3,
   "metadata": {},
   "outputs": [
    {
     "name": "stdout",
     "output_type": "stream",
     "text": [
      "Requirement already satisfied: pandas in ./env/lib/python3.8/site-packages (from -r requirements.txt (line 1)) (1.4.2)\n",
      "Requirement already satisfied: geopandas in ./env/lib/python3.8/site-packages (from -r requirements.txt (line 2)) (0.10.2)\n",
      "Requirement already satisfied: keplergl in ./env/lib/python3.8/site-packages (from -r requirements.txt (line 3)) (0.3.2)\n",
      "Collecting plotnine\n",
      "  Downloading plotnine-0.8.0-py3-none-any.whl (4.7 MB)\n",
      "\u001b[K     |████████████████████████████████| 4.7 MB 827 kB/s eta 0:00:01\n",
      "\u001b[?25hRequirement already satisfied: python-dateutil>=2.8.1 in ./env/lib/python3.8/site-packages (from pandas->-r requirements.txt (line 1)) (2.8.2)\n",
      "Requirement already satisfied: numpy>=1.18.5; platform_machine != \"aarch64\" and platform_machine != \"arm64\" and python_version < \"3.10\" in ./env/lib/python3.8/site-packages (from pandas->-r requirements.txt (line 1)) (1.22.3)\n",
      "Requirement already satisfied: pytz>=2020.1 in ./env/lib/python3.8/site-packages (from pandas->-r requirements.txt (line 1)) (2022.1)\n",
      "Requirement already satisfied: fiona>=1.8 in ./env/lib/python3.8/site-packages (from geopandas->-r requirements.txt (line 2)) (1.8.21)\n",
      "Requirement already satisfied: shapely>=1.6 in ./env/lib/python3.8/site-packages (from geopandas->-r requirements.txt (line 2)) (1.8.1.post1)\n",
      "Requirement already satisfied: pyproj>=2.2.0 in ./env/lib/python3.8/site-packages (from geopandas->-r requirements.txt (line 2)) (3.3.0)\n",
      "Requirement already satisfied: ipywidgets<8,>=7.0.0 in ./env/lib/python3.8/site-packages (from keplergl->-r requirements.txt (line 3)) (7.7.0)\n",
      "Requirement already satisfied: traittypes>=0.2.1 in ./env/lib/python3.8/site-packages (from keplergl->-r requirements.txt (line 3)) (0.2.1)\n",
      "Collecting mizani>=0.7.3\n",
      "  Downloading mizani-0.7.4-py3-none-any.whl (63 kB)\n",
      "\u001b[K     |████████████████████████████████| 63 kB 472 kB/s eta 0:00:01\n",
      "\u001b[?25hCollecting matplotlib>=3.1.1\n",
      "  Using cached matplotlib-3.5.1-cp38-cp38-manylinux_2_5_x86_64.manylinux1_x86_64.whl (11.3 MB)\n",
      "Collecting scipy>=1.5.0\n",
      "  Using cached scipy-1.8.0-cp38-cp38-manylinux_2_17_x86_64.manylinux2014_x86_64.whl (41.6 MB)\n",
      "Collecting descartes>=1.1.0\n",
      "  Downloading descartes-1.1.0-py3-none-any.whl (5.8 kB)\n",
      "Collecting statsmodels>=0.12.1\n",
      "  Downloading statsmodels-0.13.2-cp38-cp38-manylinux_2_17_x86_64.manylinux2014_x86_64.whl (9.9 MB)\n",
      "\u001b[K     |████████████████████████████████| 9.9 MB 38.3 MB/s eta 0:00:01\n",
      "\u001b[?25hCollecting patsy>=0.5.1\n",
      "  Downloading patsy-0.5.2-py2.py3-none-any.whl (233 kB)\n",
      "\u001b[K     |████████████████████████████████| 233 kB 19.7 MB/s eta 0:00:01\n",
      "\u001b[?25hRequirement already satisfied: six>=1.5 in ./env/lib/python3.8/site-packages (from python-dateutil>=2.8.1->pandas->-r requirements.txt (line 1)) (1.16.0)\n",
      "Requirement already satisfied: munch in ./env/lib/python3.8/site-packages (from fiona>=1.8->geopandas->-r requirements.txt (line 2)) (2.5.0)\n",
      "Requirement already satisfied: certifi in ./env/lib/python3.8/site-packages (from fiona>=1.8->geopandas->-r requirements.txt (line 2)) (2021.10.8)\n",
      "Requirement already satisfied: click-plugins>=1.0 in ./env/lib/python3.8/site-packages (from fiona>=1.8->geopandas->-r requirements.txt (line 2)) (1.1.1)\n",
      "Requirement already satisfied: click>=4.0 in ./env/lib/python3.8/site-packages (from fiona>=1.8->geopandas->-r requirements.txt (line 2)) (8.1.2)\n",
      "Requirement already satisfied: attrs>=17 in ./env/lib/python3.8/site-packages (from fiona>=1.8->geopandas->-r requirements.txt (line 2)) (21.4.0)\n",
      "Requirement already satisfied: setuptools in ./env/lib/python3.8/site-packages (from fiona>=1.8->geopandas->-r requirements.txt (line 2)) (44.0.0)\n",
      "Requirement already satisfied: cligj>=0.5 in ./env/lib/python3.8/site-packages (from fiona>=1.8->geopandas->-r requirements.txt (line 2)) (0.7.2)\n",
      "Requirement already satisfied: ipython>=4.0.0; python_version >= \"3.3\" in ./env/lib/python3.8/site-packages (from ipywidgets<8,>=7.0.0->keplergl->-r requirements.txt (line 3)) (8.2.0)\n",
      "Requirement already satisfied: nbformat>=4.2.0 in ./env/lib/python3.8/site-packages (from ipywidgets<8,>=7.0.0->keplergl->-r requirements.txt (line 3)) (5.3.0)\n",
      "Requirement already satisfied: widgetsnbextension~=3.6.0 in ./env/lib/python3.8/site-packages (from ipywidgets<8,>=7.0.0->keplergl->-r requirements.txt (line 3)) (3.6.0)\n",
      "Requirement already satisfied: ipykernel>=4.5.1 in ./env/lib/python3.8/site-packages (from ipywidgets<8,>=7.0.0->keplergl->-r requirements.txt (line 3)) (6.12.1)\n",
      "Requirement already satisfied: jupyterlab-widgets>=1.0.0; python_version >= \"3.6\" in ./env/lib/python3.8/site-packages (from ipywidgets<8,>=7.0.0->keplergl->-r requirements.txt (line 3)) (1.1.0)\n",
      "Requirement already satisfied: traitlets>=4.3.1 in ./env/lib/python3.8/site-packages (from ipywidgets<8,>=7.0.0->keplergl->-r requirements.txt (line 3)) (5.1.1)\n",
      "Requirement already satisfied: ipython-genutils~=0.2.0 in ./env/lib/python3.8/site-packages (from ipywidgets<8,>=7.0.0->keplergl->-r requirements.txt (line 3)) (0.2.0)\n",
      "Collecting palettable\n",
      "  Downloading palettable-3.3.0-py2.py3-none-any.whl (111 kB)\n",
      "\u001b[K     |████████████████████████████████| 111 kB 28.4 MB/s eta 0:00:01\n",
      "\u001b[?25hRequirement already satisfied: packaging>=20.0 in ./env/lib/python3.8/site-packages (from matplotlib>=3.1.1->plotnine->-r requirements.txt (line 4)) (21.3)\n",
      "Collecting kiwisolver>=1.0.1\n",
      "  Downloading kiwisolver-1.4.2-cp38-cp38-manylinux_2_5_x86_64.manylinux1_x86_64.whl (1.2 MB)\n",
      "\u001b[K     |████████████████████████████████| 1.2 MB 1.5 MB/s eta 0:00:01\n",
      "\u001b[?25hRequirement already satisfied: pyparsing>=2.2.1 in ./env/lib/python3.8/site-packages (from matplotlib>=3.1.1->plotnine->-r requirements.txt (line 4)) (3.0.7)\n",
      "Collecting cycler>=0.10\n",
      "  Using cached cycler-0.11.0-py3-none-any.whl (6.4 kB)\n",
      "Collecting pillow>=6.2.0\n",
      "  Downloading Pillow-9.1.0-cp38-cp38-manylinux_2_17_x86_64.manylinux2014_x86_64.whl (4.3 MB)\n",
      "\u001b[K     |████████████████████████████████| 4.3 MB 83.5 MB/s eta 0:00:01\n",
      "\u001b[?25hCollecting fonttools>=4.22.0\n",
      "  Downloading fonttools-4.32.0-py3-none-any.whl (900 kB)\n",
      "\u001b[K     |████████████████████████████████| 900 kB 1.7 MB/s eta 0:00:01\n",
      "\u001b[?25hRequirement already satisfied: pygments>=2.4.0 in ./env/lib/python3.8/site-packages (from ipython>=4.0.0; python_version >= \"3.3\"->ipywidgets<8,>=7.0.0->keplergl->-r requirements.txt (line 3)) (2.11.2)\n",
      "Requirement already satisfied: pickleshare in ./env/lib/python3.8/site-packages (from ipython>=4.0.0; python_version >= \"3.3\"->ipywidgets<8,>=7.0.0->keplergl->-r requirements.txt (line 3)) (0.7.5)\n",
      "Requirement already satisfied: pexpect>4.3; sys_platform != \"win32\" in ./env/lib/python3.8/site-packages (from ipython>=4.0.0; python_version >= \"3.3\"->ipywidgets<8,>=7.0.0->keplergl->-r requirements.txt (line 3)) (4.8.0)\n",
      "Requirement already satisfied: prompt-toolkit!=3.0.0,!=3.0.1,<3.1.0,>=2.0.0 in ./env/lib/python3.8/site-packages (from ipython>=4.0.0; python_version >= \"3.3\"->ipywidgets<8,>=7.0.0->keplergl->-r requirements.txt (line 3)) (3.0.29)\n",
      "Requirement already satisfied: backcall in ./env/lib/python3.8/site-packages (from ipython>=4.0.0; python_version >= \"3.3\"->ipywidgets<8,>=7.0.0->keplergl->-r requirements.txt (line 3)) (0.2.0)\n",
      "Requirement already satisfied: stack-data in ./env/lib/python3.8/site-packages (from ipython>=4.0.0; python_version >= \"3.3\"->ipywidgets<8,>=7.0.0->keplergl->-r requirements.txt (line 3)) (0.2.0)\n",
      "Requirement already satisfied: matplotlib-inline in ./env/lib/python3.8/site-packages (from ipython>=4.0.0; python_version >= \"3.3\"->ipywidgets<8,>=7.0.0->keplergl->-r requirements.txt (line 3)) (0.1.3)\n",
      "Requirement already satisfied: decorator in ./env/lib/python3.8/site-packages (from ipython>=4.0.0; python_version >= \"3.3\"->ipywidgets<8,>=7.0.0->keplergl->-r requirements.txt (line 3)) (5.1.1)\n",
      "Requirement already satisfied: jedi>=0.16 in ./env/lib/python3.8/site-packages (from ipython>=4.0.0; python_version >= \"3.3\"->ipywidgets<8,>=7.0.0->keplergl->-r requirements.txt (line 3)) (0.18.1)\n",
      "Requirement already satisfied: fastjsonschema in ./env/lib/python3.8/site-packages (from nbformat>=4.2.0->ipywidgets<8,>=7.0.0->keplergl->-r requirements.txt (line 3)) (2.15.3)\n",
      "Requirement already satisfied: jsonschema>=2.6 in ./env/lib/python3.8/site-packages (from nbformat>=4.2.0->ipywidgets<8,>=7.0.0->keplergl->-r requirements.txt (line 3)) (4.4.0)\n",
      "Requirement already satisfied: jupyter-core in ./env/lib/python3.8/site-packages (from nbformat>=4.2.0->ipywidgets<8,>=7.0.0->keplergl->-r requirements.txt (line 3)) (4.9.2)\n",
      "Requirement already satisfied: notebook>=4.4.1 in ./env/lib/python3.8/site-packages (from widgetsnbextension~=3.6.0->ipywidgets<8,>=7.0.0->keplergl->-r requirements.txt (line 3)) (6.4.10)\n",
      "Requirement already satisfied: debugpy>=1.0 in ./env/lib/python3.8/site-packages (from ipykernel>=4.5.1->ipywidgets<8,>=7.0.0->keplergl->-r requirements.txt (line 3)) (1.6.0)\n",
      "Requirement already satisfied: psutil in ./env/lib/python3.8/site-packages (from ipykernel>=4.5.1->ipywidgets<8,>=7.0.0->keplergl->-r requirements.txt (line 3)) (5.9.0)\n",
      "Requirement already satisfied: tornado>=6.1 in ./env/lib/python3.8/site-packages (from ipykernel>=4.5.1->ipywidgets<8,>=7.0.0->keplergl->-r requirements.txt (line 3)) (6.1)\n",
      "Requirement already satisfied: nest-asyncio in ./env/lib/python3.8/site-packages (from ipykernel>=4.5.1->ipywidgets<8,>=7.0.0->keplergl->-r requirements.txt (line 3)) (1.5.5)\n",
      "Requirement already satisfied: jupyter-client>=6.1.12 in ./env/lib/python3.8/site-packages (from ipykernel>=4.5.1->ipywidgets<8,>=7.0.0->keplergl->-r requirements.txt (line 3)) (7.2.2)\n",
      "Requirement already satisfied: ptyprocess>=0.5 in ./env/lib/python3.8/site-packages (from pexpect>4.3; sys_platform != \"win32\"->ipython>=4.0.0; python_version >= \"3.3\"->ipywidgets<8,>=7.0.0->keplergl->-r requirements.txt (line 3)) (0.7.0)\n",
      "Requirement already satisfied: wcwidth in ./env/lib/python3.8/site-packages (from prompt-toolkit!=3.0.0,!=3.0.1,<3.1.0,>=2.0.0->ipython>=4.0.0; python_version >= \"3.3\"->ipywidgets<8,>=7.0.0->keplergl->-r requirements.txt (line 3)) (0.2.5)\n",
      "Requirement already satisfied: pure-eval in ./env/lib/python3.8/site-packages (from stack-data->ipython>=4.0.0; python_version >= \"3.3\"->ipywidgets<8,>=7.0.0->keplergl->-r requirements.txt (line 3)) (0.2.2)\n",
      "Requirement already satisfied: executing in ./env/lib/python3.8/site-packages (from stack-data->ipython>=4.0.0; python_version >= \"3.3\"->ipywidgets<8,>=7.0.0->keplergl->-r requirements.txt (line 3)) (0.8.3)\n",
      "Requirement already satisfied: asttokens in ./env/lib/python3.8/site-packages (from stack-data->ipython>=4.0.0; python_version >= \"3.3\"->ipywidgets<8,>=7.0.0->keplergl->-r requirements.txt (line 3)) (2.0.5)\n",
      "Requirement already satisfied: parso<0.9.0,>=0.8.0 in ./env/lib/python3.8/site-packages (from jedi>=0.16->ipython>=4.0.0; python_version >= \"3.3\"->ipywidgets<8,>=7.0.0->keplergl->-r requirements.txt (line 3)) (0.8.3)\n",
      "Requirement already satisfied: importlib-resources>=1.4.0; python_version < \"3.9\" in ./env/lib/python3.8/site-packages (from jsonschema>=2.6->nbformat>=4.2.0->ipywidgets<8,>=7.0.0->keplergl->-r requirements.txt (line 3)) (5.6.0)\n",
      "Requirement already satisfied: pyrsistent!=0.17.0,!=0.17.1,!=0.17.2,>=0.14.0 in ./env/lib/python3.8/site-packages (from jsonschema>=2.6->nbformat>=4.2.0->ipywidgets<8,>=7.0.0->keplergl->-r requirements.txt (line 3)) (0.18.1)\n",
      "Requirement already satisfied: pyzmq>=17 in ./env/lib/python3.8/site-packages (from notebook>=4.4.1->widgetsnbextension~=3.6.0->ipywidgets<8,>=7.0.0->keplergl->-r requirements.txt (line 3)) (22.3.0)\n",
      "Requirement already satisfied: argon2-cffi in ./env/lib/python3.8/site-packages (from notebook>=4.4.1->widgetsnbextension~=3.6.0->ipywidgets<8,>=7.0.0->keplergl->-r requirements.txt (line 3)) (21.3.0)\n",
      "Requirement already satisfied: jinja2 in ./env/lib/python3.8/site-packages (from notebook>=4.4.1->widgetsnbextension~=3.6.0->ipywidgets<8,>=7.0.0->keplergl->-r requirements.txt (line 3)) (3.1.1)\n",
      "Requirement already satisfied: Send2Trash>=1.8.0 in ./env/lib/python3.8/site-packages (from notebook>=4.4.1->widgetsnbextension~=3.6.0->ipywidgets<8,>=7.0.0->keplergl->-r requirements.txt (line 3)) (1.8.0)\n",
      "Requirement already satisfied: prometheus-client in ./env/lib/python3.8/site-packages (from notebook>=4.4.1->widgetsnbextension~=3.6.0->ipywidgets<8,>=7.0.0->keplergl->-r requirements.txt (line 3)) (0.14.1)\n",
      "Requirement already satisfied: nbconvert>=5 in ./env/lib/python3.8/site-packages (from notebook>=4.4.1->widgetsnbextension~=3.6.0->ipywidgets<8,>=7.0.0->keplergl->-r requirements.txt (line 3)) (6.4.5)\n",
      "Requirement already satisfied: terminado>=0.8.3 in ./env/lib/python3.8/site-packages (from notebook>=4.4.1->widgetsnbextension~=3.6.0->ipywidgets<8,>=7.0.0->keplergl->-r requirements.txt (line 3)) (0.13.3)\n",
      "Requirement already satisfied: entrypoints in ./env/lib/python3.8/site-packages (from jupyter-client>=6.1.12->ipykernel>=4.5.1->ipywidgets<8,>=7.0.0->keplergl->-r requirements.txt (line 3)) (0.4)\n",
      "Requirement already satisfied: zipp>=3.1.0; python_version < \"3.10\" in ./env/lib/python3.8/site-packages (from importlib-resources>=1.4.0; python_version < \"3.9\"->jsonschema>=2.6->nbformat>=4.2.0->ipywidgets<8,>=7.0.0->keplergl->-r requirements.txt (line 3)) (3.8.0)\n",
      "Requirement already satisfied: argon2-cffi-bindings in ./env/lib/python3.8/site-packages (from argon2-cffi->notebook>=4.4.1->widgetsnbextension~=3.6.0->ipywidgets<8,>=7.0.0->keplergl->-r requirements.txt (line 3)) (21.2.0)\n",
      "Requirement already satisfied: MarkupSafe>=2.0 in ./env/lib/python3.8/site-packages (from jinja2->notebook>=4.4.1->widgetsnbextension~=3.6.0->ipywidgets<8,>=7.0.0->keplergl->-r requirements.txt (line 3)) (2.1.1)\n",
      "Requirement already satisfied: defusedxml in ./env/lib/python3.8/site-packages (from nbconvert>=5->notebook>=4.4.1->widgetsnbextension~=3.6.0->ipywidgets<8,>=7.0.0->keplergl->-r requirements.txt (line 3)) (0.7.1)\n",
      "Requirement already satisfied: nbclient<0.6.0,>=0.5.0 in ./env/lib/python3.8/site-packages (from nbconvert>=5->notebook>=4.4.1->widgetsnbextension~=3.6.0->ipywidgets<8,>=7.0.0->keplergl->-r requirements.txt (line 3)) (0.5.13)\n",
      "Requirement already satisfied: jupyterlab-pygments in ./env/lib/python3.8/site-packages (from nbconvert>=5->notebook>=4.4.1->widgetsnbextension~=3.6.0->ipywidgets<8,>=7.0.0->keplergl->-r requirements.txt (line 3)) (0.2.0)\n",
      "Requirement already satisfied: pandocfilters>=1.4.1 in ./env/lib/python3.8/site-packages (from nbconvert>=5->notebook>=4.4.1->widgetsnbextension~=3.6.0->ipywidgets<8,>=7.0.0->keplergl->-r requirements.txt (line 3)) (1.5.0)\n",
      "Requirement already satisfied: beautifulsoup4 in ./env/lib/python3.8/site-packages (from nbconvert>=5->notebook>=4.4.1->widgetsnbextension~=3.6.0->ipywidgets<8,>=7.0.0->keplergl->-r requirements.txt (line 3)) (4.11.1)\n",
      "Requirement already satisfied: testpath in ./env/lib/python3.8/site-packages (from nbconvert>=5->notebook>=4.4.1->widgetsnbextension~=3.6.0->ipywidgets<8,>=7.0.0->keplergl->-r requirements.txt (line 3)) (0.6.0)\n",
      "Requirement already satisfied: mistune<2,>=0.8.1 in ./env/lib/python3.8/site-packages (from nbconvert>=5->notebook>=4.4.1->widgetsnbextension~=3.6.0->ipywidgets<8,>=7.0.0->keplergl->-r requirements.txt (line 3)) (0.8.4)\n",
      "Requirement already satisfied: bleach in ./env/lib/python3.8/site-packages (from nbconvert>=5->notebook>=4.4.1->widgetsnbextension~=3.6.0->ipywidgets<8,>=7.0.0->keplergl->-r requirements.txt (line 3)) (5.0.0)\n",
      "Requirement already satisfied: cffi>=1.0.1 in ./env/lib/python3.8/site-packages (from argon2-cffi-bindings->argon2-cffi->notebook>=4.4.1->widgetsnbextension~=3.6.0->ipywidgets<8,>=7.0.0->keplergl->-r requirements.txt (line 3)) (1.15.0)\n",
      "Requirement already satisfied: soupsieve>1.2 in ./env/lib/python3.8/site-packages (from beautifulsoup4->nbconvert>=5->notebook>=4.4.1->widgetsnbextension~=3.6.0->ipywidgets<8,>=7.0.0->keplergl->-r requirements.txt (line 3)) (2.3.2)\n",
      "Requirement already satisfied: webencodings in ./env/lib/python3.8/site-packages (from bleach->nbconvert>=5->notebook>=4.4.1->widgetsnbextension~=3.6.0->ipywidgets<8,>=7.0.0->keplergl->-r requirements.txt (line 3)) (0.5.1)\n",
      "Requirement already satisfied: pycparser in ./env/lib/python3.8/site-packages (from cffi>=1.0.1->argon2-cffi-bindings->argon2-cffi->notebook>=4.4.1->widgetsnbextension~=3.6.0->ipywidgets<8,>=7.0.0->keplergl->-r requirements.txt (line 3)) (2.21)\n",
      "Installing collected packages: palettable, scipy, kiwisolver, cycler, pillow, fonttools, matplotlib, mizani, descartes, patsy, statsmodels, plotnine\n",
      "Successfully installed cycler-0.11.0 descartes-1.1.0 fonttools-4.32.0 kiwisolver-1.4.2 matplotlib-3.5.1 mizani-0.7.4 palettable-3.3.0 patsy-0.5.2 pillow-9.1.0 plotnine-0.8.0 scipy-1.8.0 statsmodels-0.13.2\n"
     ]
    }
   ],
   "source": [
    "!pip install -r requirements.txt\n",
    "#!jupyter nbextension install --py --sys-prefix keplergl # can be skipped for notebook 5.3 and above\n",
    "#!jupyter nbextension enable --py --sys-prefix keplergl # can be skipped for notebook 5.3 and above\n",
    "#!jupyter labextension install @jupyter-widgets/jupyterlab-manager keplergl-jupyter\n"
   ]
  },
  {
   "cell_type": "code",
   "execution_count": 30,
   "metadata": {},
   "outputs": [],
   "source": [
    "import pandas as pd\n",
    "import geopandas\n"
   ]
  },
  {
   "cell_type": "code",
   "execution_count": 31,
   "metadata": {},
   "outputs": [],
   "source": [
    "\n",
    "from plotnine import *\n",
    "import seaborn as sns\n",
    "\n"
   ]
  },
  {
   "cell_type": "code",
   "execution_count": 32,
   "metadata": {},
   "outputs": [],
   "source": [
    "df = pd.read_csv(\"data/train_sample_clean_prepared.csv\")"
   ]
  },
  {
   "cell_type": "code",
   "execution_count": 33,
   "metadata": {},
   "outputs": [
    {
     "data": {
      "text/html": [
       "<div>\n",
       "<style scoped>\n",
       "    .dataframe tbody tr th:only-of-type {\n",
       "        vertical-align: middle;\n",
       "    }\n",
       "\n",
       "    .dataframe tbody tr th {\n",
       "        vertical-align: top;\n",
       "    }\n",
       "\n",
       "    .dataframe thead th {\n",
       "        text-align: right;\n",
       "    }\n",
       "</style>\n",
       "<table border=\"1\" class=\"dataframe\">\n",
       "  <thead>\n",
       "    <tr style=\"text-align: right;\">\n",
       "      <th></th>\n",
       "      <th>fare_amount</th>\n",
       "      <th>pickup_year</th>\n",
       "      <th>pickup_week</th>\n",
       "      <th>pickup_day_week</th>\n",
       "      <th>pickup_hour</th>\n",
       "      <th>pickup_longitude</th>\n",
       "      <th>pickup_latitude</th>\n",
       "      <th>dropoff_longitude</th>\n",
       "      <th>dropoff_latitude</th>\n",
       "      <th>passenger_count</th>\n",
       "      <th>dist_points_km</th>\n",
       "    </tr>\n",
       "  </thead>\n",
       "  <tbody>\n",
       "    <tr>\n",
       "      <th>0</th>\n",
       "      <td>10.9</td>\n",
       "      <td>2011</td>\n",
       "      <td>19</td>\n",
       "      <td>5</td>\n",
       "      <td>10</td>\n",
       "      <td>-73.972253</td>\n",
       "      <td>40.746463</td>\n",
       "      <td>-73.955485</td>\n",
       "      <td>40.764362</td>\n",
       "      <td>5</td>\n",
       "      <td>2.44</td>\n",
       "    </tr>\n",
       "    <tr>\n",
       "      <th>1</th>\n",
       "      <td>37.5</td>\n",
       "      <td>2014</td>\n",
       "      <td>26</td>\n",
       "      <td>3</td>\n",
       "      <td>22</td>\n",
       "      <td>-74.008180</td>\n",
       "      <td>40.707032</td>\n",
       "      <td>-73.928460</td>\n",
       "      <td>40.853647</td>\n",
       "      <td>1</td>\n",
       "      <td>17.63</td>\n",
       "    </tr>\n",
       "    <tr>\n",
       "      <th>2</th>\n",
       "      <td>5.7</td>\n",
       "      <td>2012</td>\n",
       "      <td>27</td>\n",
       "      <td>6</td>\n",
       "      <td>18</td>\n",
       "      <td>-73.994439</td>\n",
       "      <td>40.734462</td>\n",
       "      <td>-74.007644</td>\n",
       "      <td>40.740937</td>\n",
       "      <td>1</td>\n",
       "      <td>1.33</td>\n",
       "    </tr>\n",
       "    <tr>\n",
       "      <th>3</th>\n",
       "      <td>6.5</td>\n",
       "      <td>2013</td>\n",
       "      <td>39</td>\n",
       "      <td>3</td>\n",
       "      <td>21</td>\n",
       "      <td>-73.996230</td>\n",
       "      <td>40.753520</td>\n",
       "      <td>-73.987592</td>\n",
       "      <td>40.770522</td>\n",
       "      <td>1</td>\n",
       "      <td>2.03</td>\n",
       "    </tr>\n",
       "    <tr>\n",
       "      <th>4</th>\n",
       "      <td>5.3</td>\n",
       "      <td>2009</td>\n",
       "      <td>41</td>\n",
       "      <td>7</td>\n",
       "      <td>22</td>\n",
       "      <td>-73.989362</td>\n",
       "      <td>40.726397</td>\n",
       "      <td>-73.997931</td>\n",
       "      <td>40.719469</td>\n",
       "      <td>1</td>\n",
       "      <td>1.06</td>\n",
       "    </tr>\n",
       "  </tbody>\n",
       "</table>\n",
       "</div>"
      ],
      "text/plain": [
       "   fare_amount  pickup_year  pickup_week  pickup_day_week  pickup_hour  \\\n",
       "0         10.9         2011           19                5           10   \n",
       "1         37.5         2014           26                3           22   \n",
       "2          5.7         2012           27                6           18   \n",
       "3          6.5         2013           39                3           21   \n",
       "4          5.3         2009           41                7           22   \n",
       "\n",
       "   pickup_longitude  pickup_latitude  dropoff_longitude  dropoff_latitude  \\\n",
       "0        -73.972253        40.746463         -73.955485         40.764362   \n",
       "1        -74.008180        40.707032         -73.928460         40.853647   \n",
       "2        -73.994439        40.734462         -74.007644         40.740937   \n",
       "3        -73.996230        40.753520         -73.987592         40.770522   \n",
       "4        -73.989362        40.726397         -73.997931         40.719469   \n",
       "\n",
       "   passenger_count  dist_points_km  \n",
       "0                5            2.44  \n",
       "1                1           17.63  \n",
       "2                1            1.33  \n",
       "3                1            2.03  \n",
       "4                1            1.06  "
      ]
     },
     "execution_count": 33,
     "metadata": {},
     "output_type": "execute_result"
    }
   ],
   "source": [
    "df.head()"
   ]
  },
  {
   "cell_type": "code",
   "execution_count": 34,
   "metadata": {},
   "outputs": [
    {
     "data": {
      "text/plain": [
       "fare_amount          float64\n",
       "pickup_year            int64\n",
       "pickup_week            int64\n",
       "pickup_day_week        int64\n",
       "pickup_hour            int64\n",
       "pickup_longitude     float64\n",
       "pickup_latitude      float64\n",
       "dropoff_longitude    float64\n",
       "dropoff_latitude     float64\n",
       "passenger_count        int64\n",
       "dist_points_km       float64\n",
       "dtype: object"
      ]
     },
     "execution_count": 34,
     "metadata": {},
     "output_type": "execute_result"
    }
   ],
   "source": [
    "df.dtypes"
   ]
  },
  {
   "cell_type": "code",
   "execution_count": 35,
   "metadata": {},
   "outputs": [],
   "source": [
    "# est va en clean\n",
    "#df['pickup_datetime'] = pd.to_datetime(df['pickup_datetime'])\n",
    "#df[\"pickup_datetime\"] = df['pickup_datetime'].apply(lambda x: x.weekofyear)\n",
    "#df"
   ]
  },
  {
   "cell_type": "code",
   "execution_count": 36,
   "metadata": {},
   "outputs": [
    {
     "data": {
      "text/plain": [
       "fare_amount            0\n",
       "pickup_year            0\n",
       "pickup_week            0\n",
       "pickup_day_week        0\n",
       "pickup_hour            0\n",
       "pickup_longitude       0\n",
       "pickup_latitude        0\n",
       "dropoff_longitude      0\n",
       "dropoff_latitude       0\n",
       "passenger_count        0\n",
       "dist_points_km       146\n",
       "dtype: int64"
      ]
     },
     "execution_count": 36,
     "metadata": {},
     "output_type": "execute_result"
    }
   ],
   "source": [
    "# NAs por columna\n",
    "df.isnull().sum()"
   ]
  },
  {
   "cell_type": "code",
   "execution_count": 37,
   "metadata": {},
   "outputs": [
    {
     "data": {
      "text/html": [
       "<div>\n",
       "<style scoped>\n",
       "    .dataframe tbody tr th:only-of-type {\n",
       "        vertical-align: middle;\n",
       "    }\n",
       "\n",
       "    .dataframe tbody tr th {\n",
       "        vertical-align: top;\n",
       "    }\n",
       "\n",
       "    .dataframe thead th {\n",
       "        text-align: right;\n",
       "    }\n",
       "</style>\n",
       "<table border=\"1\" class=\"dataframe\">\n",
       "  <thead>\n",
       "    <tr style=\"text-align: right;\">\n",
       "      <th></th>\n",
       "      <th>fare_amount</th>\n",
       "      <th>pickup_year</th>\n",
       "      <th>pickup_week</th>\n",
       "      <th>pickup_day_week</th>\n",
       "      <th>pickup_hour</th>\n",
       "      <th>pickup_longitude</th>\n",
       "      <th>pickup_latitude</th>\n",
       "      <th>dropoff_longitude</th>\n",
       "      <th>dropoff_latitude</th>\n",
       "      <th>passenger_count</th>\n",
       "      <th>dist_points_km</th>\n",
       "    </tr>\n",
       "  </thead>\n",
       "  <tbody>\n",
       "    <tr>\n",
       "      <th>6440</th>\n",
       "      <td>9.5</td>\n",
       "      <td>2013</td>\n",
       "      <td>8</td>\n",
       "      <td>4</td>\n",
       "      <td>8</td>\n",
       "      <td>-73.960842</td>\n",
       "      <td>40.778122</td>\n",
       "      <td>-73.960842</td>\n",
       "      <td>40.778122</td>\n",
       "      <td>5</td>\n",
       "      <td>NaN</td>\n",
       "    </tr>\n",
       "    <tr>\n",
       "      <th>9400</th>\n",
       "      <td>4.9</td>\n",
       "      <td>2010</td>\n",
       "      <td>44</td>\n",
       "      <td>2</td>\n",
       "      <td>14</td>\n",
       "      <td>-73.965313</td>\n",
       "      <td>40.769032</td>\n",
       "      <td>-73.965313</td>\n",
       "      <td>40.769032</td>\n",
       "      <td>1</td>\n",
       "      <td>NaN</td>\n",
       "    </tr>\n",
       "    <tr>\n",
       "      <th>10461</th>\n",
       "      <td>13.0</td>\n",
       "      <td>2013</td>\n",
       "      <td>4</td>\n",
       "      <td>1</td>\n",
       "      <td>12</td>\n",
       "      <td>-73.985871</td>\n",
       "      <td>40.684943</td>\n",
       "      <td>-73.985871</td>\n",
       "      <td>40.684943</td>\n",
       "      <td>2</td>\n",
       "      <td>NaN</td>\n",
       "    </tr>\n",
       "    <tr>\n",
       "      <th>11147</th>\n",
       "      <td>5.3</td>\n",
       "      <td>2012</td>\n",
       "      <td>1</td>\n",
       "      <td>3</td>\n",
       "      <td>9</td>\n",
       "      <td>-73.937678</td>\n",
       "      <td>40.757958</td>\n",
       "      <td>-73.937678</td>\n",
       "      <td>40.757958</td>\n",
       "      <td>1</td>\n",
       "      <td>NaN</td>\n",
       "    </tr>\n",
       "    <tr>\n",
       "      <th>12131</th>\n",
       "      <td>10.0</td>\n",
       "      <td>2013</td>\n",
       "      <td>37</td>\n",
       "      <td>5</td>\n",
       "      <td>18</td>\n",
       "      <td>-73.885920</td>\n",
       "      <td>40.771979</td>\n",
       "      <td>-73.885920</td>\n",
       "      <td>40.771979</td>\n",
       "      <td>1</td>\n",
       "      <td>NaN</td>\n",
       "    </tr>\n",
       "    <tr>\n",
       "      <th>...</th>\n",
       "      <td>...</td>\n",
       "      <td>...</td>\n",
       "      <td>...</td>\n",
       "      <td>...</td>\n",
       "      <td>...</td>\n",
       "      <td>...</td>\n",
       "      <td>...</td>\n",
       "      <td>...</td>\n",
       "      <td>...</td>\n",
       "      <td>...</td>\n",
       "      <td>...</td>\n",
       "    </tr>\n",
       "    <tr>\n",
       "      <th>535130</th>\n",
       "      <td>17.5</td>\n",
       "      <td>2013</td>\n",
       "      <td>38</td>\n",
       "      <td>2</td>\n",
       "      <td>0</td>\n",
       "      <td>-73.989017</td>\n",
       "      <td>40.750315</td>\n",
       "      <td>-73.989017</td>\n",
       "      <td>40.750315</td>\n",
       "      <td>1</td>\n",
       "      <td>NaN</td>\n",
       "    </tr>\n",
       "    <tr>\n",
       "      <th>537331</th>\n",
       "      <td>4.1</td>\n",
       "      <td>2011</td>\n",
       "      <td>3</td>\n",
       "      <td>3</td>\n",
       "      <td>22</td>\n",
       "      <td>-73.987413</td>\n",
       "      <td>40.721813</td>\n",
       "      <td>-73.987413</td>\n",
       "      <td>40.721813</td>\n",
       "      <td>1</td>\n",
       "      <td>NaN</td>\n",
       "    </tr>\n",
       "    <tr>\n",
       "      <th>540062</th>\n",
       "      <td>6.5</td>\n",
       "      <td>2009</td>\n",
       "      <td>39</td>\n",
       "      <td>4</td>\n",
       "      <td>23</td>\n",
       "      <td>-73.988950</td>\n",
       "      <td>40.790433</td>\n",
       "      <td>-73.988950</td>\n",
       "      <td>40.790433</td>\n",
       "      <td>3</td>\n",
       "      <td>NaN</td>\n",
       "    </tr>\n",
       "    <tr>\n",
       "      <th>544119</th>\n",
       "      <td>12.0</td>\n",
       "      <td>2014</td>\n",
       "      <td>40</td>\n",
       "      <td>6</td>\n",
       "      <td>19</td>\n",
       "      <td>-74.008924</td>\n",
       "      <td>40.715935</td>\n",
       "      <td>-74.008924</td>\n",
       "      <td>40.715935</td>\n",
       "      <td>1</td>\n",
       "      <td>NaN</td>\n",
       "    </tr>\n",
       "    <tr>\n",
       "      <th>545756</th>\n",
       "      <td>2.5</td>\n",
       "      <td>2015</td>\n",
       "      <td>22</td>\n",
       "      <td>3</td>\n",
       "      <td>17</td>\n",
       "      <td>-73.995438</td>\n",
       "      <td>40.761288</td>\n",
       "      <td>-73.995438</td>\n",
       "      <td>40.761288</td>\n",
       "      <td>1</td>\n",
       "      <td>NaN</td>\n",
       "    </tr>\n",
       "  </tbody>\n",
       "</table>\n",
       "<p>146 rows × 11 columns</p>\n",
       "</div>"
      ],
      "text/plain": [
       "        fare_amount  pickup_year  pickup_week  pickup_day_week  pickup_hour  \\\n",
       "6440            9.5         2013            8                4            8   \n",
       "9400            4.9         2010           44                2           14   \n",
       "10461          13.0         2013            4                1           12   \n",
       "11147           5.3         2012            1                3            9   \n",
       "12131          10.0         2013           37                5           18   \n",
       "...             ...          ...          ...              ...          ...   \n",
       "535130         17.5         2013           38                2            0   \n",
       "537331          4.1         2011            3                3           22   \n",
       "540062          6.5         2009           39                4           23   \n",
       "544119         12.0         2014           40                6           19   \n",
       "545756          2.5         2015           22                3           17   \n",
       "\n",
       "        pickup_longitude  pickup_latitude  dropoff_longitude  \\\n",
       "6440          -73.960842        40.778122         -73.960842   \n",
       "9400          -73.965313        40.769032         -73.965313   \n",
       "10461         -73.985871        40.684943         -73.985871   \n",
       "11147         -73.937678        40.757958         -73.937678   \n",
       "12131         -73.885920        40.771979         -73.885920   \n",
       "...                  ...              ...                ...   \n",
       "535130        -73.989017        40.750315         -73.989017   \n",
       "537331        -73.987413        40.721813         -73.987413   \n",
       "540062        -73.988950        40.790433         -73.988950   \n",
       "544119        -74.008924        40.715935         -74.008924   \n",
       "545756        -73.995438        40.761288         -73.995438   \n",
       "\n",
       "        dropoff_latitude  passenger_count  dist_points_km  \n",
       "6440           40.778122                5             NaN  \n",
       "9400           40.769032                1             NaN  \n",
       "10461          40.684943                2             NaN  \n",
       "11147          40.757958                1             NaN  \n",
       "12131          40.771979                1             NaN  \n",
       "...                  ...              ...             ...  \n",
       "535130         40.750315                1             NaN  \n",
       "537331         40.721813                1             NaN  \n",
       "540062         40.790433                3             NaN  \n",
       "544119         40.715935                1             NaN  \n",
       "545756         40.761288                1             NaN  \n",
       "\n",
       "[146 rows x 11 columns]"
      ]
     },
     "execution_count": 37,
     "metadata": {},
     "output_type": "execute_result"
    }
   ],
   "source": [
    "# si tenemos todas las latitudes y longitudes por que tenemos NAs en dist_points_km\n",
    "df[df.dist_points_km.isnull()]\n",
    "\n",
    "# Es debido a que son los mismos puntos"
   ]
  },
  {
   "cell_type": "code",
   "execution_count": 38,
   "metadata": {},
   "outputs": [
    {
     "data": {
      "text/html": [
       "<div>\n",
       "<style scoped>\n",
       "    .dataframe tbody tr th:only-of-type {\n",
       "        vertical-align: middle;\n",
       "    }\n",
       "\n",
       "    .dataframe tbody tr th {\n",
       "        vertical-align: top;\n",
       "    }\n",
       "\n",
       "    .dataframe thead th {\n",
       "        text-align: right;\n",
       "    }\n",
       "</style>\n",
       "<table border=\"1\" class=\"dataframe\">\n",
       "  <thead>\n",
       "    <tr style=\"text-align: right;\">\n",
       "      <th></th>\n",
       "      <th>fare_amount</th>\n",
       "      <th>pickup_year</th>\n",
       "      <th>pickup_week</th>\n",
       "      <th>pickup_day_week</th>\n",
       "      <th>pickup_hour</th>\n",
       "      <th>pickup_longitude</th>\n",
       "      <th>pickup_latitude</th>\n",
       "      <th>dropoff_longitude</th>\n",
       "      <th>dropoff_latitude</th>\n",
       "      <th>passenger_count</th>\n",
       "      <th>dist_points_km</th>\n",
       "    </tr>\n",
       "  </thead>\n",
       "  <tbody>\n",
       "    <tr>\n",
       "      <th>125</th>\n",
       "      <td>4.90</td>\n",
       "      <td>2012</td>\n",
       "      <td>22</td>\n",
       "      <td>5</td>\n",
       "      <td>14</td>\n",
       "      <td>-73.892594</td>\n",
       "      <td>40.747032</td>\n",
       "      <td>-73.892594</td>\n",
       "      <td>40.747032</td>\n",
       "      <td>1</td>\n",
       "      <td>0.0</td>\n",
       "    </tr>\n",
       "    <tr>\n",
       "      <th>424</th>\n",
       "      <td>45.00</td>\n",
       "      <td>2012</td>\n",
       "      <td>5</td>\n",
       "      <td>2</td>\n",
       "      <td>7</td>\n",
       "      <td>-73.789570</td>\n",
       "      <td>40.647086</td>\n",
       "      <td>-73.789570</td>\n",
       "      <td>40.647086</td>\n",
       "      <td>1</td>\n",
       "      <td>0.0</td>\n",
       "    </tr>\n",
       "    <tr>\n",
       "      <th>476</th>\n",
       "      <td>13.50</td>\n",
       "      <td>2013</td>\n",
       "      <td>6</td>\n",
       "      <td>6</td>\n",
       "      <td>18</td>\n",
       "      <td>-74.014500</td>\n",
       "      <td>40.749397</td>\n",
       "      <td>-74.014500</td>\n",
       "      <td>40.749397</td>\n",
       "      <td>3</td>\n",
       "      <td>0.0</td>\n",
       "    </tr>\n",
       "    <tr>\n",
       "      <th>482</th>\n",
       "      <td>24.94</td>\n",
       "      <td>2014</td>\n",
       "      <td>41</td>\n",
       "      <td>4</td>\n",
       "      <td>10</td>\n",
       "      <td>-73.906277</td>\n",
       "      <td>40.890751</td>\n",
       "      <td>-73.906277</td>\n",
       "      <td>40.890751</td>\n",
       "      <td>1</td>\n",
       "      <td>0.0</td>\n",
       "    </tr>\n",
       "    <tr>\n",
       "      <th>879</th>\n",
       "      <td>6.60</td>\n",
       "      <td>2009</td>\n",
       "      <td>16</td>\n",
       "      <td>1</td>\n",
       "      <td>22</td>\n",
       "      <td>-73.978968</td>\n",
       "      <td>40.782347</td>\n",
       "      <td>-73.978968</td>\n",
       "      <td>40.782347</td>\n",
       "      <td>1</td>\n",
       "      <td>0.0</td>\n",
       "    </tr>\n",
       "    <tr>\n",
       "      <th>...</th>\n",
       "      <td>...</td>\n",
       "      <td>...</td>\n",
       "      <td>...</td>\n",
       "      <td>...</td>\n",
       "      <td>...</td>\n",
       "      <td>...</td>\n",
       "      <td>...</td>\n",
       "      <td>...</td>\n",
       "      <td>...</td>\n",
       "      <td>...</td>\n",
       "      <td>...</td>\n",
       "    </tr>\n",
       "    <tr>\n",
       "      <th>548142</th>\n",
       "      <td>6.00</td>\n",
       "      <td>2012</td>\n",
       "      <td>40</td>\n",
       "      <td>4</td>\n",
       "      <td>14</td>\n",
       "      <td>-73.990285</td>\n",
       "      <td>40.748593</td>\n",
       "      <td>-73.990285</td>\n",
       "      <td>40.748593</td>\n",
       "      <td>1</td>\n",
       "      <td>0.0</td>\n",
       "    </tr>\n",
       "    <tr>\n",
       "      <th>548436</th>\n",
       "      <td>17.50</td>\n",
       "      <td>2009</td>\n",
       "      <td>28</td>\n",
       "      <td>7</td>\n",
       "      <td>18</td>\n",
       "      <td>-73.952105</td>\n",
       "      <td>40.750261</td>\n",
       "      <td>-73.952102</td>\n",
       "      <td>40.750246</td>\n",
       "      <td>1</td>\n",
       "      <td>0.0</td>\n",
       "    </tr>\n",
       "    <tr>\n",
       "      <th>548564</th>\n",
       "      <td>5.30</td>\n",
       "      <td>2011</td>\n",
       "      <td>12</td>\n",
       "      <td>6</td>\n",
       "      <td>14</td>\n",
       "      <td>-73.981608</td>\n",
       "      <td>40.773442</td>\n",
       "      <td>-73.981608</td>\n",
       "      <td>40.773442</td>\n",
       "      <td>2</td>\n",
       "      <td>0.0</td>\n",
       "    </tr>\n",
       "    <tr>\n",
       "      <th>548626</th>\n",
       "      <td>5.30</td>\n",
       "      <td>2009</td>\n",
       "      <td>19</td>\n",
       "      <td>3</td>\n",
       "      <td>17</td>\n",
       "      <td>-73.961107</td>\n",
       "      <td>40.767453</td>\n",
       "      <td>-73.961107</td>\n",
       "      <td>40.767453</td>\n",
       "      <td>1</td>\n",
       "      <td>0.0</td>\n",
       "    </tr>\n",
       "    <tr>\n",
       "      <th>548686</th>\n",
       "      <td>6.50</td>\n",
       "      <td>2011</td>\n",
       "      <td>27</td>\n",
       "      <td>7</td>\n",
       "      <td>14</td>\n",
       "      <td>-73.996798</td>\n",
       "      <td>40.756813</td>\n",
       "      <td>-73.996798</td>\n",
       "      <td>40.756813</td>\n",
       "      <td>5</td>\n",
       "      <td>0.0</td>\n",
       "    </tr>\n",
       "  </tbody>\n",
       "</table>\n",
       "<p>6742 rows × 11 columns</p>\n",
       "</div>"
      ],
      "text/plain": [
       "        fare_amount  pickup_year  pickup_week  pickup_day_week  pickup_hour  \\\n",
       "125            4.90         2012           22                5           14   \n",
       "424           45.00         2012            5                2            7   \n",
       "476           13.50         2013            6                6           18   \n",
       "482           24.94         2014           41                4           10   \n",
       "879            6.60         2009           16                1           22   \n",
       "...             ...          ...          ...              ...          ...   \n",
       "548142         6.00         2012           40                4           14   \n",
       "548436        17.50         2009           28                7           18   \n",
       "548564         5.30         2011           12                6           14   \n",
       "548626         5.30         2009           19                3           17   \n",
       "548686         6.50         2011           27                7           14   \n",
       "\n",
       "        pickup_longitude  pickup_latitude  dropoff_longitude  \\\n",
       "125           -73.892594        40.747032         -73.892594   \n",
       "424           -73.789570        40.647086         -73.789570   \n",
       "476           -74.014500        40.749397         -74.014500   \n",
       "482           -73.906277        40.890751         -73.906277   \n",
       "879           -73.978968        40.782347         -73.978968   \n",
       "...                  ...              ...                ...   \n",
       "548142        -73.990285        40.748593         -73.990285   \n",
       "548436        -73.952105        40.750261         -73.952102   \n",
       "548564        -73.981608        40.773442         -73.981608   \n",
       "548626        -73.961107        40.767453         -73.961107   \n",
       "548686        -73.996798        40.756813         -73.996798   \n",
       "\n",
       "        dropoff_latitude  passenger_count  dist_points_km  \n",
       "125            40.747032                1             0.0  \n",
       "424            40.647086                1             0.0  \n",
       "476            40.749397                3             0.0  \n",
       "482            40.890751                1             0.0  \n",
       "879            40.782347                1             0.0  \n",
       "...                  ...              ...             ...  \n",
       "548142         40.748593                1             0.0  \n",
       "548436         40.750246                1             0.0  \n",
       "548564         40.773442                2             0.0  \n",
       "548626         40.767453                1             0.0  \n",
       "548686         40.756813                5             0.0  \n",
       "\n",
       "[6742 rows x 11 columns]"
      ]
     },
     "execution_count": 38,
     "metadata": {},
     "output_type": "execute_result"
    }
   ],
   "source": [
    "df[df.dist_points_km == 0]"
   ]
  },
  {
   "cell_type": "code",
   "execution_count": 41,
   "metadata": {},
   "outputs": [
    {
     "data": {
      "text/plain": [
       "False"
      ]
     },
     "execution_count": 41,
     "metadata": {},
     "output_type": "execute_result"
    }
   ],
   "source": [
    "# No tenemos más NAs\n",
    "df.isnull().values.any()"
   ]
  },
  {
   "cell_type": "code",
   "execution_count": 42,
   "metadata": {},
   "outputs": [
    {
     "data": {
      "text/plain": [
       "(548780, 11)"
      ]
     },
     "execution_count": 42,
     "metadata": {},
     "output_type": "execute_result"
    }
   ],
   "source": [
    "df.shape"
   ]
  },
  {
   "cell_type": "markdown",
   "metadata": {},
   "source": [
    "# EDA"
   ]
  },
  {
   "cell_type": "code",
   "execution_count": 45,
   "metadata": {},
   "outputs": [
    {
     "data": {
      "text/html": [
       "<div>\n",
       "<style scoped>\n",
       "    .dataframe tbody tr th:only-of-type {\n",
       "        vertical-align: middle;\n",
       "    }\n",
       "\n",
       "    .dataframe tbody tr th {\n",
       "        vertical-align: top;\n",
       "    }\n",
       "\n",
       "    .dataframe thead th {\n",
       "        text-align: right;\n",
       "    }\n",
       "</style>\n",
       "<table border=\"1\" class=\"dataframe\">\n",
       "  <thead>\n",
       "    <tr style=\"text-align: right;\">\n",
       "      <th></th>\n",
       "      <th>fare_amount</th>\n",
       "      <th>pickup_year</th>\n",
       "      <th>pickup_week</th>\n",
       "      <th>pickup_day_week</th>\n",
       "      <th>pickup_hour</th>\n",
       "      <th>pickup_longitude</th>\n",
       "      <th>pickup_latitude</th>\n",
       "      <th>dropoff_longitude</th>\n",
       "      <th>dropoff_latitude</th>\n",
       "      <th>passenger_count</th>\n",
       "      <th>dist_points_km</th>\n",
       "    </tr>\n",
       "  </thead>\n",
       "  <tbody>\n",
       "    <tr>\n",
       "      <th>count</th>\n",
       "      <td>548780.000000</td>\n",
       "      <td>548780.000000</td>\n",
       "      <td>548780.000000</td>\n",
       "      <td>548780.00000</td>\n",
       "      <td>548780.000000</td>\n",
       "      <td>548780.000000</td>\n",
       "      <td>548780.000000</td>\n",
       "      <td>548780.000000</td>\n",
       "      <td>548780.000000</td>\n",
       "      <td>548780.000000</td>\n",
       "      <td>548780.000000</td>\n",
       "    </tr>\n",
       "    <tr>\n",
       "      <th>mean</th>\n",
       "      <td>11.314441</td>\n",
       "      <td>2011.736413</td>\n",
       "      <td>25.512768</td>\n",
       "      <td>4.03559</td>\n",
       "      <td>13.509574</td>\n",
       "      <td>-73.975190</td>\n",
       "      <td>40.752531</td>\n",
       "      <td>-73.917832</td>\n",
       "      <td>40.722602</td>\n",
       "      <td>1.684320</td>\n",
       "      <td>10.668727</td>\n",
       "    </tr>\n",
       "    <tr>\n",
       "      <th>std</th>\n",
       "      <td>9.689699</td>\n",
       "      <td>1.861427</td>\n",
       "      <td>14.929027</td>\n",
       "      <td>1.94897</td>\n",
       "      <td>6.517691</td>\n",
       "      <td>0.041330</td>\n",
       "      <td>1.069773</td>\n",
       "      <td>2.931986</td>\n",
       "      <td>1.521042</td>\n",
       "      <td>1.308668</td>\n",
       "      <td>245.912893</td>\n",
       "    </tr>\n",
       "    <tr>\n",
       "      <th>min</th>\n",
       "      <td>-49.570000</td>\n",
       "      <td>2009.000000</td>\n",
       "      <td>1.000000</td>\n",
       "      <td>1.00000</td>\n",
       "      <td>0.000000</td>\n",
       "      <td>-76.416667</td>\n",
       "      <td>0.000000</td>\n",
       "      <td>-736.533332</td>\n",
       "      <td>0.000000</td>\n",
       "      <td>0.000000</td>\n",
       "      <td>0.000000</td>\n",
       "    </tr>\n",
       "    <tr>\n",
       "      <th>25%</th>\n",
       "      <td>6.000000</td>\n",
       "      <td>2010.000000</td>\n",
       "      <td>13.000000</td>\n",
       "      <td>2.00000</td>\n",
       "      <td>9.000000</td>\n",
       "      <td>-73.992230</td>\n",
       "      <td>40.736495</td>\n",
       "      <td>-73.991563</td>\n",
       "      <td>40.735527</td>\n",
       "      <td>1.000000</td>\n",
       "      <td>1.250000</td>\n",
       "    </tr>\n",
       "    <tr>\n",
       "      <th>50%</th>\n",
       "      <td>8.500000</td>\n",
       "      <td>2012.000000</td>\n",
       "      <td>24.000000</td>\n",
       "      <td>4.00000</td>\n",
       "      <td>14.000000</td>\n",
       "      <td>-73.982084</td>\n",
       "      <td>40.753300</td>\n",
       "      <td>-73.980572</td>\n",
       "      <td>40.753828</td>\n",
       "      <td>1.000000</td>\n",
       "      <td>2.160000</td>\n",
       "    </tr>\n",
       "    <tr>\n",
       "      <th>75%</th>\n",
       "      <td>12.500000</td>\n",
       "      <td>2013.000000</td>\n",
       "      <td>39.000000</td>\n",
       "      <td>6.00000</td>\n",
       "      <td>19.000000</td>\n",
       "      <td>-73.968286</td>\n",
       "      <td>40.767545</td>\n",
       "      <td>-73.965205</td>\n",
       "      <td>40.768402</td>\n",
       "      <td>2.000000</td>\n",
       "      <td>3.910000</td>\n",
       "    </tr>\n",
       "    <tr>\n",
       "      <th>max</th>\n",
       "      <td>500.000000</td>\n",
       "      <td>2015.000000</td>\n",
       "      <td>53.000000</td>\n",
       "      <td>7.00000</td>\n",
       "      <td>23.000000</td>\n",
       "      <td>-72.084310</td>\n",
       "      <td>461.700000</td>\n",
       "      <td>0.002010</td>\n",
       "      <td>451.116667</td>\n",
       "      <td>6.000000</td>\n",
       "      <td>8677.360000</td>\n",
       "    </tr>\n",
       "  </tbody>\n",
       "</table>\n",
       "</div>"
      ],
      "text/plain": [
       "         fare_amount    pickup_year    pickup_week  pickup_day_week  \\\n",
       "count  548780.000000  548780.000000  548780.000000     548780.00000   \n",
       "mean       11.314441    2011.736413      25.512768          4.03559   \n",
       "std         9.689699       1.861427      14.929027          1.94897   \n",
       "min       -49.570000    2009.000000       1.000000          1.00000   \n",
       "25%         6.000000    2010.000000      13.000000          2.00000   \n",
       "50%         8.500000    2012.000000      24.000000          4.00000   \n",
       "75%        12.500000    2013.000000      39.000000          6.00000   \n",
       "max       500.000000    2015.000000      53.000000          7.00000   \n",
       "\n",
       "         pickup_hour  pickup_longitude  pickup_latitude  dropoff_longitude  \\\n",
       "count  548780.000000     548780.000000    548780.000000      548780.000000   \n",
       "mean       13.509574        -73.975190        40.752531         -73.917832   \n",
       "std         6.517691          0.041330         1.069773           2.931986   \n",
       "min         0.000000        -76.416667         0.000000        -736.533332   \n",
       "25%         9.000000        -73.992230        40.736495         -73.991563   \n",
       "50%        14.000000        -73.982084        40.753300         -73.980572   \n",
       "75%        19.000000        -73.968286        40.767545         -73.965205   \n",
       "max        23.000000        -72.084310       461.700000           0.002010   \n",
       "\n",
       "       dropoff_latitude  passenger_count  dist_points_km  \n",
       "count     548780.000000    548780.000000   548780.000000  \n",
       "mean          40.722602         1.684320       10.668727  \n",
       "std            1.521042         1.308668      245.912893  \n",
       "min            0.000000         0.000000        0.000000  \n",
       "25%           40.735527         1.000000        1.250000  \n",
       "50%           40.753828         1.000000        2.160000  \n",
       "75%           40.768402         2.000000        3.910000  \n",
       "max          451.116667         6.000000     8677.360000  "
      ]
     },
     "execution_count": 45,
     "metadata": {},
     "output_type": "execute_result"
    }
   ],
   "source": [
    "df.describe()"
   ]
  },
  {
   "cell_type": "code",
   "execution_count": 64,
   "metadata": {},
   "outputs": [
    {
     "data": {
      "image/png": "[encoded data removed]",
      "text/plain": [
       "<Figure size 432x288 with 1 Axes>"
      ]
     },
     "metadata": {},
     "output_type": "display_data"
    }
   ],
   "source": [
    "sns.set_theme(style=\"whitegrid\")\n",
    "ax = sns.boxplot(x=df[\"fare_amount\"])"
   ]
  },
  {
   "cell_type": "markdown",
   "metadata": {},
   "source": [
    "Lo que primero llama la atención es que en tarifa tenermos valores negativos, son descuentos?"
   ]
  },
  {
   "cell_type": "code",
   "execution_count": 70,
   "metadata": {},
   "outputs": [
    {
     "data": {
      "image/png": "[encoded data removed]",
      "text/plain": [
       "<Figure size 640x480 with 1 Axes>"
      ]
     },
     "metadata": {},
     "output_type": "display_data"
    },
    {
     "data": {
      "text/plain": [
       "<ggplot: (8735084060938)>"
      ]
     },
     "execution_count": 70,
     "metadata": {},
     "output_type": "execute_result"
    }
   ],
   "source": [
    "(\n",
    "    ggplot(df) \n",
    "    + geom_histogram(aes('fare_amount'), bins = 100)\n",
    "    + theme_seaborn()\n",
    ")"
   ]
  },
  {
   "cell_type": "code",
   "execution_count": 93,
   "metadata": {},
   "outputs": [
    {
     "data": {
      "image/png": "[encoded data removed]",
      "text/plain": [
       "<Figure size 640x480 with 1 Axes>"
      ]
     },
     "metadata": {
      "needs_background": "light"
     },
     "output_type": "display_data"
    },
    {
     "data": {
      "text/plain": [
       "<ggplot: (8735082659859)>"
      ]
     },
     "execution_count": 93,
     "metadata": {},
     "output_type": "execute_result"
    }
   ],
   "source": [
    "(\n",
    "    ggplot(df) \n",
    "    + geom_point(\n",
    "        aes(x='fare_amount', y='dist_points_km'),\n",
    "        alpha = .2,\n",
    "        color = 'blue')\n",
    "    + theme_minimal()\n",
    ")\n",
    "# Ya que las distancias no son realmente lineales, eso se ve reflejado en esta grafica"
   ]
  },
  {
   "cell_type": "code",
   "execution_count": 91,
   "metadata": {},
   "outputs": [
    {
     "data": {
      "text/plain": [
       "<AxesSubplot:xlabel='pickup_hour', ylabel='pickup_day_week'>"
      ]
     },
     "execution_count": 91,
     "metadata": {},
     "output_type": "execute_result"
    },
    {
     "data": {
      "image/png": "[encoded data removed]",
      "text/plain": [
       "<Figure size 432x288 with 2 Axes>"
      ]
     },
     "metadata": {},
     "output_type": "display_data"
    }
   ],
   "source": [
    "df_group = df.groupby(['pickup_day_week', 'pickup_hour'])['fare_amount']\\\n",
    "    .mean()\\\n",
    "    .reset_index()\n",
    "\n",
    "df_pivot = pd.pivot_table(df_group, values='fare_amount', index=['pickup_day_week'],\n",
    "                    columns=['pickup_hour'], fill_value=0)\n",
    "\n",
    "y_axis_labels = ['L', 'M', 'X', 'J', 'V', 'S', 'D']\n",
    "sns.heatmap(df_pivot, cmap=\"BuPu\", yticklabels=y_axis_labels)"
   ]
  },
  {
   "cell_type": "code",
   "execution_count": 92,
   "metadata": {},
   "outputs": [
    {
     "data": {
      "text/plain": [
       "<AxesSubplot:xlabel='pickup_hour', ylabel='pickup_day_week'>"
      ]
     },
     "execution_count": 92,
     "metadata": {},
     "output_type": "execute_result"
    },
    {
     "data": {
      "image/png": "[encoded data removed]",
      "text/plain": [
       "<Figure size 432x288 with 2 Axes>"
      ]
     },
     "metadata": {},
     "output_type": "display_data"
    }
   ],
   "source": [
    "df_group = df.groupby(['pickup_day_week', 'pickup_hour'])['fare_amount']\\\n",
    "    .count()\\\n",
    "    .reset_index()\n",
    "\n",
    "df_pivot = pd.pivot_table(df_group, values='fare_amount', index=['pickup_day_week'],\n",
    "                    columns=['pickup_hour'], fill_value=0)\n",
    "\n",
    "sns.heatmap(df_pivot, cmap=\"BuPu\", yticklabels=y_axis_labels)"
   ]
  },
  {
   "cell_type": "markdown",
   "metadata": {},
   "source": []
  },
  {
   "cell_type": "code",
   "execution_count": 97,
   "metadata": {},
   "outputs": [],
   "source": [
    "# Load an empty map\n",
    "from keplergl import KeplerGl\n",
    "#map_1 = KeplerGl()\n",
    "#map_1"
   ]
  },
  {
   "cell_type": "code",
   "execution_count": 94,
   "metadata": {},
   "outputs": [],
   "source": [
    "gdf = geopandas.GeoDataFrame(\n",
    "    df, geometry=geopandas.points_from_xy(df.pickup_longitude, df.pickup_latitude))\n"
   ]
  },
  {
   "cell_type": "code",
   "execution_count": 8,
   "metadata": {},
   "outputs": [
    {
     "name": "stdout",
     "output_type": "stream",
     "text": [
      "User Guide: https://docs.kepler.gl/docs/keplergl-jupyter\n"
     ]
    },
    {
     "data": {
      "application/vnd.jupyter.widget-view+json": {
       "model_id": "29dc0a2956084faaab01b7c71413cf19",
       "version_major": 2,
       "version_minor": 0
      },
      "text/plain": [
       "KeplerGl(config={'version': 'v1', 'config': {'mapState': {'latitude': 40.75, 'longitude': -74, 'zoom': 10}}}, …"
      ]
     },
     "metadata": {},
     "output_type": "display_data"
    }
   ],
   "source": [
    "#config = {\n",
    "#'version': 'v1',\n",
    "#'config': {\n",
    "#    'mapState': {\n",
    "#        'latitude': 40.75,\n",
    "#        'longitude': -74,\n",
    "#        'zoom': 10\n",
    "#    }\n",
    "#}\n",
    "#}\n",
    "#\n",
    "#map_2 = KeplerGl(data={\"data_1\": gdf[1:10]}, config = config)\n",
    "#map_2\n",
    "\n",
    "#KeplerGl().save_to_html(file_name='index.html', data={\"data_1\": gdf[1:10]}, config = config)"
   ]
  },
  {
   "cell_type": "code",
   "execution_count": 9,
   "metadata": {},
   "outputs": [],
   "source": [
    "# Save map_1 config to a file\n",
    "#with open('hex_config.py', 'w') as f:\n",
    "#   f.write('config = {}'.format(map_2.config))\n"
   ]
  },
  {
   "cell_type": "code",
   "execution_count": 95,
   "metadata": {},
   "outputs": [],
   "source": [
    "\n",
    "%run config.py"
   ]
  },
  {
   "cell_type": "code",
   "execution_count": 98,
   "metadata": {},
   "outputs": [
    {
     "name": "stdout",
     "output_type": "stream",
     "text": [
      "User Guide: https://docs.kepler.gl/docs/keplergl-jupyter\n"
     ]
    },
    {
     "data": {
      "application/vnd.jupyter.widget-view+json": {
       "model_id": "d635b60303b7455fa3506516a3e41152",
       "version_major": 2,
       "version_minor": 0
      },
      "text/plain": [
       "KeplerGl(config={'version': 'v1', 'config': {'visState': {'filters': [], 'layers': [{'id': 'ohq60rq', 'type': …"
      ]
     },
     "metadata": {},
     "output_type": "display_data"
    }
   ],
   "source": [
    "%run config.py\n",
    "map_2 = KeplerGl(height=600, data={\"data_1\": gdf[1:10000]}, config = config)\n",
    "map_2"
   ]
  },
  {
   "cell_type": "code",
   "execution_count": 99,
   "metadata": {},
   "outputs": [
    {
     "name": "stdout",
     "output_type": "stream",
     "text": [
      "User Guide: https://docs.kepler.gl/docs/keplergl-jupyter\n",
      "Map saved to index.html!\n"
     ]
    }
   ],
   "source": [
    "KeplerGl().save_to_html(file_name='index.html', data={\"data_1\": gdf[1:10000]}, config = config)\n"
   ]
  },
  {
   "cell_type": "code",
   "execution_count": null,
   "metadata": {},
   "outputs": [],
   "source": []
  },
  {
   "cell_type": "code",
   "execution_count": null,
   "metadata": {},
   "outputs": [],
   "source": []
  }
 ],
 "metadata": {
  "interpreter": {
   "hash": "96b77de20a1e6bfe537a5b32d76661beb3e48385b3a88b3efe9534e829038cec"
  },
  "kernelspec": {
   "display_name": "Python 3 (ipykernel)",
   "language": "python",
   "name": "python3"
  },
  "language_info": {
   "codemirror_mode": {
    "name": "ipython",
    "version": 3
   },
   "file_extension": ".py",
   "mimetype": "text/x-python",
   "name": "python",
   "nbconvert_exporter": "python",
   "pygments_lexer": "ipython3",
   "version": "3.8.10"
  }
 },
 "nbformat": 4,
 "nbformat_minor": 4
}
