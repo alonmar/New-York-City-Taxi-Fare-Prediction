{
 "cells": [
  {
   "cell_type": "code",
   "execution_count": 1,
   "metadata": {},
   "outputs": [],
   "source": [
    "import pandas as pd\n",
    "import geopandas\n",
    "from plotnine import *\n",
    "import seaborn as sns\n"
   ]
  },
  {
   "cell_type": "code",
   "execution_count": 2,
   "metadata": {},
   "outputs": [
    {
     "data": {
      "text/plain": [
       "(548780, 11)"
      ]
     },
     "execution_count": 2,
     "metadata": {},
     "output_type": "execute_result"
    }
   ],
   "source": [
    "df = pd.read_csv(\"data/train_sample_clean_prepared.csv\")\n",
    "df.shape"
   ]
  },
  {
   "cell_type": "code",
   "execution_count": 3,
   "metadata": {},
   "outputs": [
    {
     "data": {
      "text/html": [
       "<div>\n",
       "<style scoped>\n",
       "    .dataframe tbody tr th:only-of-type {\n",
       "        vertical-align: middle;\n",
       "    }\n",
       "\n",
       "    .dataframe tbody tr th {\n",
       "        vertical-align: top;\n",
       "    }\n",
       "\n",
       "    .dataframe thead th {\n",
       "        text-align: right;\n",
       "    }\n",
       "</style>\n",
       "<table border=\"1\" class=\"dataframe\">\n",
       "  <thead>\n",
       "    <tr style=\"text-align: right;\">\n",
       "      <th></th>\n",
       "      <th>fare_amount</th>\n",
       "      <th>pickup_year</th>\n",
       "      <th>pickup_week</th>\n",
       "      <th>pickup_day_week</th>\n",
       "      <th>pickup_hour</th>\n",
       "      <th>pickup_longitude</th>\n",
       "      <th>pickup_latitude</th>\n",
       "      <th>dropoff_longitude</th>\n",
       "      <th>dropoff_latitude</th>\n",
       "      <th>passenger_count</th>\n",
       "      <th>dist_points_km</th>\n",
       "    </tr>\n",
       "  </thead>\n",
       "  <tbody>\n",
       "    <tr>\n",
       "      <th>0</th>\n",
       "      <td>10.9</td>\n",
       "      <td>2011</td>\n",
       "      <td>19</td>\n",
       "      <td>5</td>\n",
       "      <td>10</td>\n",
       "      <td>-73.972253</td>\n",
       "      <td>40.746463</td>\n",
       "      <td>-73.955485</td>\n",
       "      <td>40.764362</td>\n",
       "      <td>5</td>\n",
       "      <td>2.44</td>\n",
       "    </tr>\n",
       "    <tr>\n",
       "      <th>1</th>\n",
       "      <td>37.5</td>\n",
       "      <td>2014</td>\n",
       "      <td>26</td>\n",
       "      <td>3</td>\n",
       "      <td>22</td>\n",
       "      <td>-74.008180</td>\n",
       "      <td>40.707032</td>\n",
       "      <td>-73.928460</td>\n",
       "      <td>40.853647</td>\n",
       "      <td>1</td>\n",
       "      <td>17.63</td>\n",
       "    </tr>\n",
       "    <tr>\n",
       "      <th>2</th>\n",
       "      <td>5.7</td>\n",
       "      <td>2012</td>\n",
       "      <td>27</td>\n",
       "      <td>6</td>\n",
       "      <td>18</td>\n",
       "      <td>-73.994439</td>\n",
       "      <td>40.734462</td>\n",
       "      <td>-74.007644</td>\n",
       "      <td>40.740937</td>\n",
       "      <td>1</td>\n",
       "      <td>1.33</td>\n",
       "    </tr>\n",
       "    <tr>\n",
       "      <th>3</th>\n",
       "      <td>6.5</td>\n",
       "      <td>2013</td>\n",
       "      <td>39</td>\n",
       "      <td>3</td>\n",
       "      <td>21</td>\n",
       "      <td>-73.996230</td>\n",
       "      <td>40.753520</td>\n",
       "      <td>-73.987592</td>\n",
       "      <td>40.770522</td>\n",
       "      <td>1</td>\n",
       "      <td>2.03</td>\n",
       "    </tr>\n",
       "    <tr>\n",
       "      <th>4</th>\n",
       "      <td>5.3</td>\n",
       "      <td>2009</td>\n",
       "      <td>41</td>\n",
       "      <td>7</td>\n",
       "      <td>22</td>\n",
       "      <td>-73.989362</td>\n",
       "      <td>40.726397</td>\n",
       "      <td>-73.997931</td>\n",
       "      <td>40.719469</td>\n",
       "      <td>1</td>\n",
       "      <td>1.06</td>\n",
       "    </tr>\n",
       "  </tbody>\n",
       "</table>\n",
       "</div>"
      ],
      "text/plain": [
       "   fare_amount  pickup_year  pickup_week  pickup_day_week  pickup_hour  \\\n",
       "0         10.9         2011           19                5           10   \n",
       "1         37.5         2014           26                3           22   \n",
       "2          5.7         2012           27                6           18   \n",
       "3          6.5         2013           39                3           21   \n",
       "4          5.3         2009           41                7           22   \n",
       "\n",
       "   pickup_longitude  pickup_latitude  dropoff_longitude  dropoff_latitude  \\\n",
       "0        -73.972253        40.746463         -73.955485         40.764362   \n",
       "1        -74.008180        40.707032         -73.928460         40.853647   \n",
       "2        -73.994439        40.734462         -74.007644         40.740937   \n",
       "3        -73.996230        40.753520         -73.987592         40.770522   \n",
       "4        -73.989362        40.726397         -73.997931         40.719469   \n",
       "\n",
       "   passenger_count  dist_points_km  \n",
       "0                5            2.44  \n",
       "1                1           17.63  \n",
       "2                1            1.33  \n",
       "3                1            2.03  \n",
       "4                1            1.06  "
      ]
     },
     "execution_count": 3,
     "metadata": {},
     "output_type": "execute_result"
    }
   ],
   "source": [
    "df.head()"
   ]
  },
  {
   "cell_type": "code",
   "execution_count": 4,
   "metadata": {},
   "outputs": [
    {
     "data": {
      "text/plain": [
       "fare_amount          float64\n",
       "pickup_year            int64\n",
       "pickup_week            int64\n",
       "pickup_day_week        int64\n",
       "pickup_hour            int64\n",
       "pickup_longitude     float64\n",
       "pickup_latitude      float64\n",
       "dropoff_longitude    float64\n",
       "dropoff_latitude     float64\n",
       "passenger_count        int64\n",
       "dist_points_km       float64\n",
       "dtype: object"
      ]
     },
     "execution_count": 4,
     "metadata": {},
     "output_type": "execute_result"
    }
   ],
   "source": [
    "df.dtypes"
   ]
  },
  {
   "cell_type": "code",
   "execution_count": 5,
   "metadata": {},
   "outputs": [
    {
     "data": {
      "text/html": [
       "<div>\n",
       "<style scoped>\n",
       "    .dataframe tbody tr th:only-of-type {\n",
       "        vertical-align: middle;\n",
       "    }\n",
       "\n",
       "    .dataframe tbody tr th {\n",
       "        vertical-align: top;\n",
       "    }\n",
       "\n",
       "    .dataframe thead th {\n",
       "        text-align: right;\n",
       "    }\n",
       "</style>\n",
       "<table border=\"1\" class=\"dataframe\">\n",
       "  <thead>\n",
       "    <tr style=\"text-align: right;\">\n",
       "      <th></th>\n",
       "      <th>fare_amount</th>\n",
       "      <th>pickup_year</th>\n",
       "      <th>pickup_week</th>\n",
       "      <th>pickup_day_week</th>\n",
       "      <th>pickup_hour</th>\n",
       "      <th>pickup_longitude</th>\n",
       "      <th>pickup_latitude</th>\n",
       "      <th>dropoff_longitude</th>\n",
       "      <th>dropoff_latitude</th>\n",
       "      <th>passenger_count</th>\n",
       "      <th>dist_points_km</th>\n",
       "    </tr>\n",
       "  </thead>\n",
       "  <tbody>\n",
       "    <tr>\n",
       "      <th>6440</th>\n",
       "      <td>9.5</td>\n",
       "      <td>2013</td>\n",
       "      <td>8</td>\n",
       "      <td>4</td>\n",
       "      <td>8</td>\n",
       "      <td>-73.960842</td>\n",
       "      <td>40.778122</td>\n",
       "      <td>-73.960842</td>\n",
       "      <td>40.778122</td>\n",
       "      <td>5</td>\n",
       "      <td>NaN</td>\n",
       "    </tr>\n",
       "    <tr>\n",
       "      <th>9400</th>\n",
       "      <td>4.9</td>\n",
       "      <td>2010</td>\n",
       "      <td>44</td>\n",
       "      <td>2</td>\n",
       "      <td>14</td>\n",
       "      <td>-73.965313</td>\n",
       "      <td>40.769032</td>\n",
       "      <td>-73.965313</td>\n",
       "      <td>40.769032</td>\n",
       "      <td>1</td>\n",
       "      <td>NaN</td>\n",
       "    </tr>\n",
       "    <tr>\n",
       "      <th>10461</th>\n",
       "      <td>13.0</td>\n",
       "      <td>2013</td>\n",
       "      <td>4</td>\n",
       "      <td>1</td>\n",
       "      <td>12</td>\n",
       "      <td>-73.985871</td>\n",
       "      <td>40.684943</td>\n",
       "      <td>-73.985871</td>\n",
       "      <td>40.684943</td>\n",
       "      <td>2</td>\n",
       "      <td>NaN</td>\n",
       "    </tr>\n",
       "    <tr>\n",
       "      <th>11147</th>\n",
       "      <td>5.3</td>\n",
       "      <td>2012</td>\n",
       "      <td>1</td>\n",
       "      <td>3</td>\n",
       "      <td>9</td>\n",
       "      <td>-73.937678</td>\n",
       "      <td>40.757958</td>\n",
       "      <td>-73.937678</td>\n",
       "      <td>40.757958</td>\n",
       "      <td>1</td>\n",
       "      <td>NaN</td>\n",
       "    </tr>\n",
       "    <tr>\n",
       "      <th>12131</th>\n",
       "      <td>10.0</td>\n",
       "      <td>2013</td>\n",
       "      <td>37</td>\n",
       "      <td>5</td>\n",
       "      <td>18</td>\n",
       "      <td>-73.885920</td>\n",
       "      <td>40.771979</td>\n",
       "      <td>-73.885920</td>\n",
       "      <td>40.771979</td>\n",
       "      <td>1</td>\n",
       "      <td>NaN</td>\n",
       "    </tr>\n",
       "    <tr>\n",
       "      <th>...</th>\n",
       "      <td>...</td>\n",
       "      <td>...</td>\n",
       "      <td>...</td>\n",
       "      <td>...</td>\n",
       "      <td>...</td>\n",
       "      <td>...</td>\n",
       "      <td>...</td>\n",
       "      <td>...</td>\n",
       "      <td>...</td>\n",
       "      <td>...</td>\n",
       "      <td>...</td>\n",
       "    </tr>\n",
       "    <tr>\n",
       "      <th>535130</th>\n",
       "      <td>17.5</td>\n",
       "      <td>2013</td>\n",
       "      <td>38</td>\n",
       "      <td>2</td>\n",
       "      <td>0</td>\n",
       "      <td>-73.989017</td>\n",
       "      <td>40.750315</td>\n",
       "      <td>-73.989017</td>\n",
       "      <td>40.750315</td>\n",
       "      <td>1</td>\n",
       "      <td>NaN</td>\n",
       "    </tr>\n",
       "    <tr>\n",
       "      <th>537331</th>\n",
       "      <td>4.1</td>\n",
       "      <td>2011</td>\n",
       "      <td>3</td>\n",
       "      <td>3</td>\n",
       "      <td>22</td>\n",
       "      <td>-73.987413</td>\n",
       "      <td>40.721813</td>\n",
       "      <td>-73.987413</td>\n",
       "      <td>40.721813</td>\n",
       "      <td>1</td>\n",
       "      <td>NaN</td>\n",
       "    </tr>\n",
       "    <tr>\n",
       "      <th>540062</th>\n",
       "      <td>6.5</td>\n",
       "      <td>2009</td>\n",
       "      <td>39</td>\n",
       "      <td>4</td>\n",
       "      <td>23</td>\n",
       "      <td>-73.988950</td>\n",
       "      <td>40.790433</td>\n",
       "      <td>-73.988950</td>\n",
       "      <td>40.790433</td>\n",
       "      <td>3</td>\n",
       "      <td>NaN</td>\n",
       "    </tr>\n",
       "    <tr>\n",
       "      <th>544119</th>\n",
       "      <td>12.0</td>\n",
       "      <td>2014</td>\n",
       "      <td>40</td>\n",
       "      <td>6</td>\n",
       "      <td>19</td>\n",
       "      <td>-74.008924</td>\n",
       "      <td>40.715935</td>\n",
       "      <td>-74.008924</td>\n",
       "      <td>40.715935</td>\n",
       "      <td>1</td>\n",
       "      <td>NaN</td>\n",
       "    </tr>\n",
       "    <tr>\n",
       "      <th>545756</th>\n",
       "      <td>2.5</td>\n",
       "      <td>2015</td>\n",
       "      <td>22</td>\n",
       "      <td>3</td>\n",
       "      <td>17</td>\n",
       "      <td>-73.995438</td>\n",
       "      <td>40.761288</td>\n",
       "      <td>-73.995438</td>\n",
       "      <td>40.761288</td>\n",
       "      <td>1</td>\n",
       "      <td>NaN</td>\n",
       "    </tr>\n",
       "  </tbody>\n",
       "</table>\n",
       "<p>146 rows × 11 columns</p>\n",
       "</div>"
      ],
      "text/plain": [
       "        fare_amount  pickup_year  pickup_week  pickup_day_week  pickup_hour  \\\n",
       "6440            9.5         2013            8                4            8   \n",
       "9400            4.9         2010           44                2           14   \n",
       "10461          13.0         2013            4                1           12   \n",
       "11147           5.3         2012            1                3            9   \n",
       "12131          10.0         2013           37                5           18   \n",
       "...             ...          ...          ...              ...          ...   \n",
       "535130         17.5         2013           38                2            0   \n",
       "537331          4.1         2011            3                3           22   \n",
       "540062          6.5         2009           39                4           23   \n",
       "544119         12.0         2014           40                6           19   \n",
       "545756          2.5         2015           22                3           17   \n",
       "\n",
       "        pickup_longitude  pickup_latitude  dropoff_longitude  \\\n",
       "6440          -73.960842        40.778122         -73.960842   \n",
       "9400          -73.965313        40.769032         -73.965313   \n",
       "10461         -73.985871        40.684943         -73.985871   \n",
       "11147         -73.937678        40.757958         -73.937678   \n",
       "12131         -73.885920        40.771979         -73.885920   \n",
       "...                  ...              ...                ...   \n",
       "535130        -73.989017        40.750315         -73.989017   \n",
       "537331        -73.987413        40.721813         -73.987413   \n",
       "540062        -73.988950        40.790433         -73.988950   \n",
       "544119        -74.008924        40.715935         -74.008924   \n",
       "545756        -73.995438        40.761288         -73.995438   \n",
       "\n",
       "        dropoff_latitude  passenger_count  dist_points_km  \n",
       "6440           40.778122                5             NaN  \n",
       "9400           40.769032                1             NaN  \n",
       "10461          40.684943                2             NaN  \n",
       "11147          40.757958                1             NaN  \n",
       "12131          40.771979                1             NaN  \n",
       "...                  ...              ...             ...  \n",
       "535130         40.750315                1             NaN  \n",
       "537331         40.721813                1             NaN  \n",
       "540062         40.790433                3             NaN  \n",
       "544119         40.715935                1             NaN  \n",
       "545756         40.761288                1             NaN  \n",
       "\n",
       "[146 rows x 11 columns]"
      ]
     },
     "execution_count": 5,
     "metadata": {},
     "output_type": "execute_result"
    }
   ],
   "source": [
    "df[df.dist_points_km.isnull()]\n",
    "# Tenemos todas las latitudes y longitudes por que tenemos NAs en dist_points_km\n",
    "\n",
    "# Es debido a que son los mismos puntos"
   ]
  },
  {
   "cell_type": "code",
   "execution_count": 6,
   "metadata": {},
   "outputs": [
    {
     "data": {
      "text/html": [
       "<div>\n",
       "<style scoped>\n",
       "    .dataframe tbody tr th:only-of-type {\n",
       "        vertical-align: middle;\n",
       "    }\n",
       "\n",
       "    .dataframe tbody tr th {\n",
       "        vertical-align: top;\n",
       "    }\n",
       "\n",
       "    .dataframe thead th {\n",
       "        text-align: right;\n",
       "    }\n",
       "</style>\n",
       "<table border=\"1\" class=\"dataframe\">\n",
       "  <thead>\n",
       "    <tr style=\"text-align: right;\">\n",
       "      <th></th>\n",
       "      <th>fare_amount</th>\n",
       "      <th>pickup_year</th>\n",
       "      <th>pickup_week</th>\n",
       "      <th>pickup_day_week</th>\n",
       "      <th>pickup_hour</th>\n",
       "      <th>pickup_longitude</th>\n",
       "      <th>pickup_latitude</th>\n",
       "      <th>dropoff_longitude</th>\n",
       "      <th>dropoff_latitude</th>\n",
       "      <th>passenger_count</th>\n",
       "      <th>dist_points_km</th>\n",
       "    </tr>\n",
       "  </thead>\n",
       "  <tbody>\n",
       "    <tr>\n",
       "      <th>125</th>\n",
       "      <td>4.90</td>\n",
       "      <td>2012</td>\n",
       "      <td>22</td>\n",
       "      <td>5</td>\n",
       "      <td>14</td>\n",
       "      <td>-73.892594</td>\n",
       "      <td>40.747032</td>\n",
       "      <td>-73.892594</td>\n",
       "      <td>40.747032</td>\n",
       "      <td>1</td>\n",
       "      <td>0.0</td>\n",
       "    </tr>\n",
       "    <tr>\n",
       "      <th>424</th>\n",
       "      <td>45.00</td>\n",
       "      <td>2012</td>\n",
       "      <td>5</td>\n",
       "      <td>2</td>\n",
       "      <td>7</td>\n",
       "      <td>-73.789570</td>\n",
       "      <td>40.647086</td>\n",
       "      <td>-73.789570</td>\n",
       "      <td>40.647086</td>\n",
       "      <td>1</td>\n",
       "      <td>0.0</td>\n",
       "    </tr>\n",
       "    <tr>\n",
       "      <th>476</th>\n",
       "      <td>13.50</td>\n",
       "      <td>2013</td>\n",
       "      <td>6</td>\n",
       "      <td>6</td>\n",
       "      <td>18</td>\n",
       "      <td>-74.014500</td>\n",
       "      <td>40.749397</td>\n",
       "      <td>-74.014500</td>\n",
       "      <td>40.749397</td>\n",
       "      <td>3</td>\n",
       "      <td>0.0</td>\n",
       "    </tr>\n",
       "    <tr>\n",
       "      <th>482</th>\n",
       "      <td>24.94</td>\n",
       "      <td>2014</td>\n",
       "      <td>41</td>\n",
       "      <td>4</td>\n",
       "      <td>10</td>\n",
       "      <td>-73.906277</td>\n",
       "      <td>40.890751</td>\n",
       "      <td>-73.906277</td>\n",
       "      <td>40.890751</td>\n",
       "      <td>1</td>\n",
       "      <td>0.0</td>\n",
       "    </tr>\n",
       "    <tr>\n",
       "      <th>879</th>\n",
       "      <td>6.60</td>\n",
       "      <td>2009</td>\n",
       "      <td>16</td>\n",
       "      <td>1</td>\n",
       "      <td>22</td>\n",
       "      <td>-73.978968</td>\n",
       "      <td>40.782347</td>\n",
       "      <td>-73.978968</td>\n",
       "      <td>40.782347</td>\n",
       "      <td>1</td>\n",
       "      <td>0.0</td>\n",
       "    </tr>\n",
       "    <tr>\n",
       "      <th>...</th>\n",
       "      <td>...</td>\n",
       "      <td>...</td>\n",
       "      <td>...</td>\n",
       "      <td>...</td>\n",
       "      <td>...</td>\n",
       "      <td>...</td>\n",
       "      <td>...</td>\n",
       "      <td>...</td>\n",
       "      <td>...</td>\n",
       "      <td>...</td>\n",
       "      <td>...</td>\n",
       "    </tr>\n",
       "    <tr>\n",
       "      <th>548142</th>\n",
       "      <td>6.00</td>\n",
       "      <td>2012</td>\n",
       "      <td>40</td>\n",
       "      <td>4</td>\n",
       "      <td>14</td>\n",
       "      <td>-73.990285</td>\n",
       "      <td>40.748593</td>\n",
       "      <td>-73.990285</td>\n",
       "      <td>40.748593</td>\n",
       "      <td>1</td>\n",
       "      <td>0.0</td>\n",
       "    </tr>\n",
       "    <tr>\n",
       "      <th>548436</th>\n",
       "      <td>17.50</td>\n",
       "      <td>2009</td>\n",
       "      <td>28</td>\n",
       "      <td>7</td>\n",
       "      <td>18</td>\n",
       "      <td>-73.952105</td>\n",
       "      <td>40.750261</td>\n",
       "      <td>-73.952102</td>\n",
       "      <td>40.750246</td>\n",
       "      <td>1</td>\n",
       "      <td>0.0</td>\n",
       "    </tr>\n",
       "    <tr>\n",
       "      <th>548564</th>\n",
       "      <td>5.30</td>\n",
       "      <td>2011</td>\n",
       "      <td>12</td>\n",
       "      <td>6</td>\n",
       "      <td>14</td>\n",
       "      <td>-73.981608</td>\n",
       "      <td>40.773442</td>\n",
       "      <td>-73.981608</td>\n",
       "      <td>40.773442</td>\n",
       "      <td>2</td>\n",
       "      <td>0.0</td>\n",
       "    </tr>\n",
       "    <tr>\n",
       "      <th>548626</th>\n",
       "      <td>5.30</td>\n",
       "      <td>2009</td>\n",
       "      <td>19</td>\n",
       "      <td>3</td>\n",
       "      <td>17</td>\n",
       "      <td>-73.961107</td>\n",
       "      <td>40.767453</td>\n",
       "      <td>-73.961107</td>\n",
       "      <td>40.767453</td>\n",
       "      <td>1</td>\n",
       "      <td>0.0</td>\n",
       "    </tr>\n",
       "    <tr>\n",
       "      <th>548686</th>\n",
       "      <td>6.50</td>\n",
       "      <td>2011</td>\n",
       "      <td>27</td>\n",
       "      <td>7</td>\n",
       "      <td>14</td>\n",
       "      <td>-73.996798</td>\n",
       "      <td>40.756813</td>\n",
       "      <td>-73.996798</td>\n",
       "      <td>40.756813</td>\n",
       "      <td>5</td>\n",
       "      <td>0.0</td>\n",
       "    </tr>\n",
       "  </tbody>\n",
       "</table>\n",
       "<p>6742 rows × 11 columns</p>\n",
       "</div>"
      ],
      "text/plain": [
       "        fare_amount  pickup_year  pickup_week  pickup_day_week  pickup_hour  \\\n",
       "125            4.90         2012           22                5           14   \n",
       "424           45.00         2012            5                2            7   \n",
       "476           13.50         2013            6                6           18   \n",
       "482           24.94         2014           41                4           10   \n",
       "879            6.60         2009           16                1           22   \n",
       "...             ...          ...          ...              ...          ...   \n",
       "548142         6.00         2012           40                4           14   \n",
       "548436        17.50         2009           28                7           18   \n",
       "548564         5.30         2011           12                6           14   \n",
       "548626         5.30         2009           19                3           17   \n",
       "548686         6.50         2011           27                7           14   \n",
       "\n",
       "        pickup_longitude  pickup_latitude  dropoff_longitude  \\\n",
       "125           -73.892594        40.747032         -73.892594   \n",
       "424           -73.789570        40.647086         -73.789570   \n",
       "476           -74.014500        40.749397         -74.014500   \n",
       "482           -73.906277        40.890751         -73.906277   \n",
       "879           -73.978968        40.782347         -73.978968   \n",
       "...                  ...              ...                ...   \n",
       "548142        -73.990285        40.748593         -73.990285   \n",
       "548436        -73.952105        40.750261         -73.952102   \n",
       "548564        -73.981608        40.773442         -73.981608   \n",
       "548626        -73.961107        40.767453         -73.961107   \n",
       "548686        -73.996798        40.756813         -73.996798   \n",
       "\n",
       "        dropoff_latitude  passenger_count  dist_points_km  \n",
       "125            40.747032                1             0.0  \n",
       "424            40.647086                1             0.0  \n",
       "476            40.749397                3             0.0  \n",
       "482            40.890751                1             0.0  \n",
       "879            40.782347                1             0.0  \n",
       "...                  ...              ...             ...  \n",
       "548142         40.748593                1             0.0  \n",
       "548436         40.750246                1             0.0  \n",
       "548564         40.773442                2             0.0  \n",
       "548626         40.767453                1             0.0  \n",
       "548686         40.756813                5             0.0  \n",
       "\n",
       "[6742 rows x 11 columns]"
      ]
     },
     "execution_count": 6,
     "metadata": {},
     "output_type": "execute_result"
    }
   ],
   "source": [
    "# Tenemos \n",
    "df[df.dist_points_km == 0]"
   ]
  },
  {
   "cell_type": "code",
   "execution_count": 7,
   "metadata": {},
   "outputs": [],
   "source": [
    "# vamos a elminar todos aquellos donde dist es igual a cero y mayores a 200 ya que \n",
    "# representan datos mal recolectados y no se tiene un metodo de inputacíon adecuado\n",
    "\n",
    "df = df.query('dist_points_km > 0 & dist_points_km < 200')"
   ]
  },
  {
   "cell_type": "code",
   "execution_count": 8,
   "metadata": {},
   "outputs": [
    {
     "data": {
      "text/plain": [
       "fare_amount          0\n",
       "pickup_year          0\n",
       "pickup_week          0\n",
       "pickup_day_week      0\n",
       "pickup_hour          0\n",
       "pickup_longitude     0\n",
       "pickup_latitude      0\n",
       "dropoff_longitude    0\n",
       "dropoff_latitude     0\n",
       "passenger_count      0\n",
       "dist_points_km       0\n",
       "dtype: int64"
      ]
     },
     "execution_count": 8,
     "metadata": {},
     "output_type": "execute_result"
    }
   ],
   "source": [
    "# NAs por columna\n",
    "df.isnull().sum()"
   ]
  },
  {
   "cell_type": "code",
   "execution_count": 9,
   "metadata": {},
   "outputs": [
    {
     "data": {
      "text/plain": [
       "False"
      ]
     },
     "execution_count": 9,
     "metadata": {},
     "output_type": "execute_result"
    }
   ],
   "source": [
    "# No tenemos más NAs\n",
    "df.isnull().values.any()"
   ]
  },
  {
   "cell_type": "code",
   "execution_count": 10,
   "metadata": {},
   "outputs": [
    {
     "data": {
      "text/plain": [
       "(541381, 11)"
      ]
     },
     "execution_count": 10,
     "metadata": {},
     "output_type": "execute_result"
    }
   ],
   "source": [
    "df.shape"
   ]
  },
  {
   "cell_type": "markdown",
   "metadata": {},
   "source": [
    "# EDA"
   ]
  },
  {
   "cell_type": "code",
   "execution_count": 11,
   "metadata": {},
   "outputs": [
    {
     "data": {
      "text/html": [
       "<div>\n",
       "<style scoped>\n",
       "    .dataframe tbody tr th:only-of-type {\n",
       "        vertical-align: middle;\n",
       "    }\n",
       "\n",
       "    .dataframe tbody tr th {\n",
       "        vertical-align: top;\n",
       "    }\n",
       "\n",
       "    .dataframe thead th {\n",
       "        text-align: right;\n",
       "    }\n",
       "</style>\n",
       "<table border=\"1\" class=\"dataframe\">\n",
       "  <thead>\n",
       "    <tr style=\"text-align: right;\">\n",
       "      <th></th>\n",
       "      <th>fare_amount</th>\n",
       "      <th>passenger_count</th>\n",
       "      <th>dist_points_km</th>\n",
       "    </tr>\n",
       "  </thead>\n",
       "  <tbody>\n",
       "    <tr>\n",
       "      <th>count</th>\n",
       "      <td>541381.000000</td>\n",
       "      <td>541381.000000</td>\n",
       "      <td>541381.000000</td>\n",
       "    </tr>\n",
       "    <tr>\n",
       "      <th>mean</th>\n",
       "      <td>11.285635</td>\n",
       "      <td>1.684725</td>\n",
       "      <td>3.389318</td>\n",
       "    </tr>\n",
       "    <tr>\n",
       "      <th>std</th>\n",
       "      <td>9.450315</td>\n",
       "      <td>1.308819</td>\n",
       "      <td>4.141762</td>\n",
       "    </tr>\n",
       "    <tr>\n",
       "      <th>min</th>\n",
       "      <td>-49.570000</td>\n",
       "      <td>0.000000</td>\n",
       "      <td>0.010000</td>\n",
       "    </tr>\n",
       "    <tr>\n",
       "      <th>25%</th>\n",
       "      <td>6.000000</td>\n",
       "      <td>1.000000</td>\n",
       "      <td>1.280000</td>\n",
       "    </tr>\n",
       "    <tr>\n",
       "      <th>50%</th>\n",
       "      <td>8.500000</td>\n",
       "      <td>1.000000</td>\n",
       "      <td>2.180000</td>\n",
       "    </tr>\n",
       "    <tr>\n",
       "      <th>75%</th>\n",
       "      <td>12.500000</td>\n",
       "      <td>2.000000</td>\n",
       "      <td>3.940000</td>\n",
       "    </tr>\n",
       "    <tr>\n",
       "      <th>max</th>\n",
       "      <td>370.000000</td>\n",
       "      <td>6.000000</td>\n",
       "      <td>198.750000</td>\n",
       "    </tr>\n",
       "  </tbody>\n",
       "</table>\n",
       "</div>"
      ],
      "text/plain": [
       "         fare_amount  passenger_count  dist_points_km\n",
       "count  541381.000000    541381.000000   541381.000000\n",
       "mean       11.285635         1.684725        3.389318\n",
       "std         9.450315         1.308819        4.141762\n",
       "min       -49.570000         0.000000        0.010000\n",
       "25%         6.000000         1.000000        1.280000\n",
       "50%         8.500000         1.000000        2.180000\n",
       "75%        12.500000         2.000000        3.940000\n",
       "max       370.000000         6.000000      198.750000"
      ]
     },
     "execution_count": 11,
     "metadata": {},
     "output_type": "execute_result"
    }
   ],
   "source": [
    "df[['fare_amount', 'passenger_count', 'dist_points_km']].describe()"
   ]
  },
  {
   "cell_type": "code",
   "execution_count": 12,
   "metadata": {},
   "outputs": [
    {
     "data": {
      "image/png": "[encoded data removed]",
      "text/plain": [
       "<Figure size 432x288 with 1 Axes>"
      ]
     },
     "metadata": {},
     "output_type": "display_data"
    }
   ],
   "source": [
    "sns.set_theme(style=\"whitegrid\")\n",
    "ax = sns.boxplot(x=df[\"fare_amount\"])"
   ]
  },
  {
   "cell_type": "markdown",
   "metadata": {},
   "source": [
    "Lo que primero llama la atención es que en tarifa tenermos valores negativos, son descuentos?"
   ]
  },
  {
   "cell_type": "code",
   "execution_count": 13,
   "metadata": {},
   "outputs": [
    {
     "data": {
      "image/png": "[encoded data removed]",
      "text/plain": [
       "<Figure size 640x480 with 1 Axes>"
      ]
     },
     "metadata": {},
     "output_type": "display_data"
    },
    {
     "data": {
      "text/plain": [
       "<ggplot: (8781986647534)>"
      ]
     },
     "execution_count": 13,
     "metadata": {},
     "output_type": "execute_result"
    }
   ],
   "source": [
    "(\n",
    "    ggplot(df) \n",
    "    + geom_histogram(aes('fare_amount'), bins = 100)\n",
    "    + theme_seaborn() \n",
    "    + labs(x = \"Costo de viaje\")\n",
    ")"
   ]
  },
  {
   "cell_type": "code",
   "execution_count": 14,
   "metadata": {},
   "outputs": [
    {
     "data": {
      "text/html": [
       "<div>\n",
       "<style scoped>\n",
       "    .dataframe tbody tr th:only-of-type {\n",
       "        vertical-align: middle;\n",
       "    }\n",
       "\n",
       "    .dataframe tbody tr th {\n",
       "        vertical-align: top;\n",
       "    }\n",
       "\n",
       "    .dataframe thead th {\n",
       "        text-align: right;\n",
       "    }\n",
       "</style>\n",
       "<table border=\"1\" class=\"dataframe\">\n",
       "  <thead>\n",
       "    <tr style=\"text-align: right;\">\n",
       "      <th></th>\n",
       "      <th>passenger_count</th>\n",
       "      <th>n</th>\n",
       "    </tr>\n",
       "  </thead>\n",
       "  <tbody>\n",
       "    <tr>\n",
       "      <th>0</th>\n",
       "      <td>0</td>\n",
       "      <td>1938</td>\n",
       "    </tr>\n",
       "    <tr>\n",
       "      <th>1</th>\n",
       "      <td>1</td>\n",
       "      <td>374471</td>\n",
       "    </tr>\n",
       "    <tr>\n",
       "      <th>2</th>\n",
       "      <td>2</td>\n",
       "      <td>79966</td>\n",
       "    </tr>\n",
       "    <tr>\n",
       "      <th>3</th>\n",
       "      <td>3</td>\n",
       "      <td>23733</td>\n",
       "    </tr>\n",
       "    <tr>\n",
       "      <th>4</th>\n",
       "      <td>4</td>\n",
       "      <td>11505</td>\n",
       "    </tr>\n",
       "    <tr>\n",
       "      <th>5</th>\n",
       "      <td>5</td>\n",
       "      <td>38152</td>\n",
       "    </tr>\n",
       "    <tr>\n",
       "      <th>6</th>\n",
       "      <td>6</td>\n",
       "      <td>11616</td>\n",
       "    </tr>\n",
       "  </tbody>\n",
       "</table>\n",
       "</div>"
      ],
      "text/plain": [
       "   passenger_count       n\n",
       "0                0    1938\n",
       "1                1  374471\n",
       "2                2   79966\n",
       "3                3   23733\n",
       "4                4   11505\n",
       "5                5   38152\n",
       "6                6   11616"
      ]
     },
     "execution_count": 14,
     "metadata": {},
     "output_type": "execute_result"
    }
   ],
   "source": [
    "df_group = df.groupby(['passenger_count'])\\\n",
    "    .size()\\\n",
    "    .reset_index(name='n')\n",
    "\n",
    "df_group"
   ]
  },
  {
   "cell_type": "code",
   "execution_count": 15,
   "metadata": {},
   "outputs": [
    {
     "data": {
      "image/png": "[encoded data removed]",
      "text/plain": [
       "<Figure size 640x480 with 1 Axes>"
      ]
     },
     "metadata": {},
     "output_type": "display_data"
    },
    {
     "data": {
      "text/plain": [
       "<ggplot: (8781984367613)>"
      ]
     },
     "execution_count": 15,
     "metadata": {},
     "output_type": "execute_result"
    }
   ],
   "source": [
    "(\n",
    "    ggplot(df) \n",
    "    + geom_bar(\n",
    "        aes(\n",
    "            x='passenger_count',\n",
    "            fill = df['passenger_count'].astype(str)\n",
    "            ),\n",
    "            show_legend = False\n",
    "        )\n",
    "    + theme_seaborn()\n",
    "    + labs(x = \"Número de pasajeros\")\n",
    ")"
   ]
  },
  {
   "cell_type": "code",
   "execution_count": 16,
   "metadata": {},
   "outputs": [
    {
     "data": {
      "image/png": "[encoded data removed]",
      "text/plain": [
       "<Figure size 640x480 with 1 Axes>"
      ]
     },
     "metadata": {},
     "output_type": "display_data"
    },
    {
     "data": {
      "text/plain": [
       "<ggplot: (8781984335086)>"
      ]
     },
     "execution_count": 16,
     "metadata": {},
     "output_type": "execute_result"
    }
   ],
   "source": [
    "(\n",
    "    ggplot(df) \n",
    "    + geom_point(\n",
    "        aes(x='dist_points_km', y='fare_amount'),\n",
    "        alpha = .2,\n",
    "        color = 'black')\n",
    "    + theme_seaborn()\n",
    "    + labs(x = 'Distancia en km', y = \"Costo de viaje\")\n",
    ")\n",
    "# Ya que las distancias no son realmente lineales, eso se ve reflejado en esta grafica"
   ]
  },
  {
   "cell_type": "code",
   "execution_count": 17,
   "metadata": {},
   "outputs": [
    {
     "data": {
      "text/plain": [
       "[Text(0.5, 30.5, 'Hora'),\n",
       " Text(66.5, 0.5, 'Día de la semana'),\n",
       " Text(0.5, 1.0, 'Promedio del costo de viaje')]"
      ]
     },
     "execution_count": 17,
     "metadata": {},
     "output_type": "execute_result"
    },
    {
     "data": {
      "image/png": "[encoded data removed]",
      "text/plain": [
       "<Figure size 720x432 with 2 Axes>"
      ]
     },
     "metadata": {},
     "output_type": "display_data"
    }
   ],
   "source": [
    "df_group = df.groupby(['pickup_day_week', 'pickup_hour'])['fare_amount']\\\n",
    "    .mean()\\\n",
    "    .reset_index()\n",
    "\n",
    "df_pivot = pd.pivot_table(df_group, values='fare_amount', index=['pickup_day_week'],\n",
    "                    columns=['pickup_hour'], fill_value=0)\n",
    "\n",
    "y_axis_labels = ['L', 'M', 'X', 'J', 'V', 'S', 'D']\n",
    "\n",
    "sns.set(rc={'figure.figsize':(10,6)})\n",
    "ax = sns.heatmap(df_pivot, cmap=\"BuPu\", yticklabels=y_axis_labels)\n",
    "\n",
    "ax.set(xlabel='Hora', ylabel='Día de la semana', title='Promedio del costo de viaje')"
   ]
  },
  {
   "cell_type": "code",
   "execution_count": 18,
   "metadata": {},
   "outputs": [
    {
     "data": {
      "text/plain": [
       "[Text(0.5, 30.5, 'Hora'),\n",
       " Text(66.5, 0.5, 'Día de la semana'),\n",
       " Text(0.5, 1.0, 'Conteo de viajes')]"
      ]
     },
     "execution_count": 18,
     "metadata": {},
     "output_type": "execute_result"
    },
    {
     "data": {
      "image/png": "[encoded data removed]",
      "text/plain": [
       "<Figure size 720x432 with 2 Axes>"
      ]
     },
     "metadata": {},
     "output_type": "display_data"
    }
   ],
   "source": [
    "df_group = df.groupby(['pickup_day_week', 'pickup_hour'])['fare_amount']\\\n",
    "    .count()\\\n",
    "    .reset_index()\n",
    "\n",
    "df_pivot = pd.pivot_table(df_group, values='fare_amount', index=['pickup_day_week'],\n",
    "                    columns=['pickup_hour'], fill_value=0)\n",
    "\n",
    "sns.set(rc={'figure.figsize':(10,6)})\n",
    "ax = sns.heatmap(df_pivot, cmap=\"BuPu\", yticklabels=y_axis_labels)\n",
    "ax.set(xlabel='Hora', ylabel='Día de la semana', title='Conteo de viajes')"
   ]
  },
  {
   "cell_type": "markdown",
   "metadata": {},
   "source": []
  },
  {
   "cell_type": "code",
   "execution_count": 19,
   "metadata": {},
   "outputs": [],
   "source": [
    "from keplergl import KeplerGl"
   ]
  },
  {
   "cell_type": "code",
   "execution_count": 20,
   "metadata": {},
   "outputs": [],
   "source": [
    "gdf = geopandas.GeoDataFrame(\n",
    "    df, geometry=geopandas.points_from_xy(df.pickup_longitude, df.pickup_latitude))\n"
   ]
  },
  {
   "cell_type": "code",
   "execution_count": 21,
   "metadata": {},
   "outputs": [],
   "source": [
    "# Save map_1 config to a file\n",
    "#with open('hex_config.py', 'w') as f:\n",
    "#   f.write('config = {}'.format(map_2.config))\n"
   ]
  },
  {
   "cell_type": "code",
   "execution_count": 22,
   "metadata": {},
   "outputs": [],
   "source": [
    "\n",
    "# cargamos la configuración\n",
    "%run config.py"
   ]
  },
  {
   "cell_type": "code",
   "execution_count": 23,
   "metadata": {},
   "outputs": [
    {
     "name": "stdout",
     "output_type": "stream",
     "text": [
      "User Guide: https://docs.kepler.gl/docs/keplergl-jupyter\n"
     ]
    },
    {
     "data": {
      "application/vnd.jupyter.widget-view+json": {
       "model_id": "eb895c8962194fa4ae5f615b03595f64",
       "version_major": 2,
       "version_minor": 0
      },
      "text/plain": [
       "KeplerGl(config={'version': 'v1', 'config': {'visState': {'filters': [], 'layers': [{'id': 'ohq60rq', 'type': …"
      ]
     },
     "metadata": {},
     "output_type": "display_data"
    }
   ],
   "source": [
    "%run config.py\n",
    "map_view = KeplerGl(height=600, data={\"data_1\": gdf[1:10000]}, config = config)\n",
    "map_view"
   ]
  },
  {
   "cell_type": "code",
   "execution_count": 24,
   "metadata": {},
   "outputs": [],
   "source": [
    "#KeplerGl().save_to_html(file_name='index.html', data={\"data_1\": gdf[1:10000]}, config = config)"
   ]
  }
 ],
 "metadata": {
  "interpreter": {
   "hash": "96b77de20a1e6bfe537a5b32d76661beb3e48385b3a88b3efe9534e829038cec"
  },
  "kernelspec": {
   "display_name": "Python 3 (ipykernel)",
   "language": "python",
   "name": "python3"
  },
  "language_info": {
   "codemirror_mode": {
    "name": "ipython",
    "version": 3
   },
   "file_extension": ".py",
   "mimetype": "text/x-python",
   "name": "python",
   "nbconvert_exporter": "python",
   "pygments_lexer": "ipython3",
   "version": "3.8.10"
  }
 },
 "nbformat": 4,
 "nbformat_minor": 4
}
